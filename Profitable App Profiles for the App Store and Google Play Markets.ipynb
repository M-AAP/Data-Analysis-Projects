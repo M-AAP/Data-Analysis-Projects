{
 "cells": [
  {
   "cell_type": "markdown",
   "id": "257662b6",
   "metadata": {},
   "source": [
    "# Profitable App Profiles for the App Store and Google Play Markets"
   ]
  },
  {
   "cell_type": "markdown",
   "id": "ce76d4ca",
   "metadata": {},
   "source": [
    "We are working as data analysts for a company that builds apps for Android and IOS devices for an English-speaking audience. Our apps are free of charge, so our main source of revenue is in-app ads. Hence the number of users is what determines the revenue for each app - the more users who see and engage with the ads, the better. The goal of this project is to clean and analyse data to help our developers understand what kind of app will attract more users. "
   ]
  },
  {
   "cell_type": "markdown",
   "id": "4bfa188e",
   "metadata": {},
   "source": [
    "## Opening and exploring the data"
   ]
  },
  {
   "cell_type": "markdown",
   "id": "bbb878a9",
   "metadata": {},
   "source": [
    "There are 2 million apps on the App Store and 2.1 million on the Google Play Store. Collecting the data for 4.1 million apps would require a significant time and money investment, so we focus on two smaller, more suitable datasets."
   ]
  },
  {
   "cell_type": "code",
   "execution_count": 1,
   "id": "222c4494",
   "metadata": {},
   "outputs": [
    {
     "name": "stdout",
     "output_type": "stream",
     "text": [
      "['389801252', 'Instagram', '113954816', 'USD', '0.0', '2161558', '1289', '4.5', '4.0', '10.23', '12+', 'Photo & Video', '37', '0', '29', '1']\n",
      "\n",
      "\n",
      "['529479190', 'Clash of Clans', '116476928', 'USD', '0.0', '2130805', '579', '4.5', '4.5', '9.24.12', '9+', 'Games', '38', '5', '18', '1']\n",
      "\n",
      "\n",
      "['420009108', 'Temple Run', '65921024', 'USD', '0.0', '1724546', '3842', '4.5', '4.0', '1.6.2', '9+', 'Games', '40', '5', '1', '1']\n",
      "\n",
      "\n",
      "['284035177', 'Pandora - Music & Radio', '130242560', 'USD', '0.0', '1126879', '3594', '4.0', '4.5', '8.4.1', '12+', 'Music', '37', '4', '1', '1']\n",
      "\n",
      "\n",
      "Number of rows: 7197\n",
      "Number of columns: 16\n",
      "['Coloring book moana', 'ART_AND_DESIGN', '3.9', '967', '14M', '500,000+', 'Free', '0', 'Everyone', 'Art & Design;Pretend Play', 'January 15, 2018', '2.0.0', '4.0.3 and up']\n",
      "\n",
      "\n",
      "['U Launcher Lite – FREE Live Cool Themes, Hide Apps', 'ART_AND_DESIGN', '4.7', '87510', '8.7M', '5,000,000+', 'Free', '0', 'Everyone', 'Art & Design', 'August 1, 2018', '1.2.4', '4.0.3 and up']\n",
      "\n",
      "\n",
      "['Sketch - Draw & Paint', 'ART_AND_DESIGN', '4.5', '215644', '25M', '50,000,000+', 'Free', '0', 'Teen', 'Art & Design', 'June 8, 2018', 'Varies with device', '4.2 and up']\n",
      "\n",
      "\n",
      "['Pixel Draw - Number Art Coloring Book', 'ART_AND_DESIGN', '4.3', '967', '2.8M', '100,000+', 'Free', '0', 'Everyone', 'Art & Design;Creativity', 'June 20, 2018', '1.1', '4.4 and up']\n",
      "\n",
      "\n",
      "Number of rows: 10841\n",
      "Number of columns: 13\n"
     ]
    }
   ],
   "source": [
    "opened_apple = open('AppleStore.csv', encoding = 'utf8')\n",
    "opened_google = open('googleplaystore.csv', encoding = 'utf8')\n",
    "\n",
    "from csv import reader\n",
    "\n",
    "read_apple = reader(opened_apple)\n",
    "read_google = reader(opened_google)\n",
    "\n",
    "apple = list(read_apple)\n",
    "apple_header = apple[0]\n",
    "apple = apple[1:]\n",
    "\n",
    "google = list(read_google)\n",
    "google_header = google[0]\n",
    "google = google[1:]\n",
    "\n",
    "def explore_data(dataset, start, end, rows_and_columns=False):\n",
    "    dataset_slice = dataset[start:end]    \n",
    "    for row in dataset_slice:\n",
    "        print(row)\n",
    "        print('\\n') # adds a new (empty) line after each row\n",
    "\n",
    "    if rows_and_columns:\n",
    "        print('Number of rows:', len(dataset))\n",
    "        print('Number of columns:', len(dataset[0]))\n",
    "\n",
    "        \n",
    "explore_data(apple, 1, 5, rows_and_columns = True)\n",
    "\n",
    "explore_data(google, 1, 5, rows_and_columns = True)"
   ]
  },
  {
   "cell_type": "markdown",
   "id": "ec3521cd",
   "metadata": {},
   "source": [
    "Here are the column names and descriptions for the iOS app data. See the [documentation](https://www.kaggle.com/datasets/ramamet4/app-store-apple-data-set-10k-apps) for more details.\n",
    "\n",
    "| Column name      | Description |\n",
    "| ----------- | ----------- |\n",
    "| id          | App ID       |\n",
    "| track_name   | App Name        | \n",
    "|size_bytes | App Size (in bytes)|\n",
    "|currency | Currency Type |\n",
    "| price | App Price|\n",
    "|rating_count_tot | Number of user ratings for all versions|\n",
    "|rating_count_ver | Number of user ratings for current version|\n",
    "|user_rating | Average user rating for all versions|\n",
    "|user_rating_ver | Average user rating for current version|\n",
    "|ver| Latest version code|\n",
    "|cont_rating| Content Rating |\n",
    "| prime_genre | App Genre|\n",
    "|sup_devices.num| Number of supported devices|\n",
    "|ipadSc_urls.num | Number of screenshots shown for display|\n",
    "| lang.num| Number of supported languages|\n",
    "|vpp_lic| Vpp Device Based Licensing Enabled|"
   ]
  },
  {
   "cell_type": "code",
   "execution_count": 2,
   "id": "c6dfd8d5",
   "metadata": {},
   "outputs": [
    {
     "data": {
      "text/plain": [
       "['id',\n",
       " 'track_name',\n",
       " 'size_bytes',\n",
       " 'currency',\n",
       " 'price',\n",
       " 'rating_count_tot',\n",
       " 'rating_count_ver',\n",
       " 'user_rating',\n",
       " 'user_rating_ver',\n",
       " 'ver',\n",
       " 'cont_rating',\n",
       " 'prime_genre',\n",
       " 'sup_devices.num',\n",
       " 'ipadSc_urls.num',\n",
       " 'lang.num',\n",
       " 'vpp_lic']"
      ]
     },
     "execution_count": 2,
     "metadata": {},
     "output_type": "execute_result"
    }
   ],
   "source": [
    "apple_header"
   ]
  },
  {
   "cell_type": "markdown",
   "id": "9da10b52",
   "metadata": {},
   "source": [
    "The columns that could be useful for our analysis include `track_name`, `currency`, `rating_count_tot`, `rating_count_ver`, `prime_genre`."
   ]
  },
  {
   "cell_type": "markdown",
   "id": "3ef8235f",
   "metadata": {},
   "source": [
    "Likewise for the Android app data. These names are self-explanatory so we will not provide a detailed description. See the [documentation](https://www.kaggle.com/datasets/lava18/google-play-store-apps) for details."
   ]
  },
  {
   "cell_type": "code",
   "execution_count": 3,
   "id": "117afc04",
   "metadata": {},
   "outputs": [
    {
     "data": {
      "text/plain": [
       "['App',\n",
       " 'Category',\n",
       " 'Rating',\n",
       " 'Reviews',\n",
       " 'Size',\n",
       " 'Installs',\n",
       " 'Type',\n",
       " 'Price',\n",
       " 'Content Rating',\n",
       " 'Genres',\n",
       " 'Last Updated',\n",
       " 'Current Ver',\n",
       " 'Android Ver']"
      ]
     },
     "execution_count": 3,
     "metadata": {},
     "output_type": "execute_result"
    }
   ],
   "source": [
    "google_header"
   ]
  },
  {
   "cell_type": "markdown",
   "id": "b694da47",
   "metadata": {},
   "source": [
    "The columns that seem useful to us are `App`, `Category`, `Reviews`, `Installs`, `Price` and `Genres`."
   ]
  },
  {
   "cell_type": "markdown",
   "id": "293062f3",
   "metadata": {},
   "source": [
    "## Deleting Wrong Data"
   ]
  },
  {
   "cell_type": "markdown",
   "id": "da4f136e",
   "metadata": {},
   "source": [
    "We must delete/correct inaccurate or duplicate data before proceeding with the analysis. Recall that we are only interested in the free apps, and are designing for an English-speaking audience. So we must also remove paid and non-English apps."
   ]
  },
  {
   "cell_type": "markdown",
   "id": "b55e6f4f",
   "metadata": {},
   "source": [
    "This [discussion](https://www.kaggle.com/datasets/lava18/google-play-store-apps/discussion/66015) describes an error in the 10472th entry of the Google Play Store app data. Let's explore this issue."
   ]
  },
  {
   "cell_type": "code",
   "execution_count": 4,
   "id": "42885018",
   "metadata": {},
   "outputs": [
    {
     "name": "stdout",
     "output_type": "stream",
     "text": [
      "['Life Made WI-Fi Touchscreen Photo Frame', '1.9', '19', '3.0M', '1,000+', 'Free', '0', 'Everyone', '', 'February 11, 2018', '1.0.19', '4.0 and up']\n",
      "\n",
      "\n",
      "['App', 'Category', 'Rating', 'Reviews', 'Size', 'Installs', 'Type', 'Price', 'Content Rating', 'Genres', 'Last Updated', 'Current Ver', 'Android Ver']\n",
      "\n",
      "\n",
      "['Photo Editor & Candy Camera & Grid & ScrapBook', 'ART_AND_DESIGN', '4.1', '159', '19M', '10,000+', 'Free', '0', 'Everyone', 'Art & Design', 'January 7, 2018', '1.0.0', '4.0.3 and up']\n"
     ]
    }
   ],
   "source": [
    "print(google[10472])\n",
    "print(\"\\n\")\n",
    "print(google_header)\n",
    "print(\"\\n\")\n",
    "print(google[0])"
   ]
  },
  {
   "cell_type": "markdown",
   "id": "871ab468",
   "metadata": {},
   "source": [
    "We can see that there is a missing value in the `Category` column, which causes subsequent entries to be shifted. So we delete this row:"
   ]
  },
  {
   "cell_type": "code",
   "execution_count": 5,
   "id": "dec60764",
   "metadata": {},
   "outputs": [],
   "source": [
    "del google[10472] #be careful to not run this more than once, to avoid deleting more rows than desired"
   ]
  },
  {
   "cell_type": "code",
   "execution_count": 6,
   "id": "5aa518f8",
   "metadata": {},
   "outputs": [
    {
     "data": {
      "text/plain": [
       "['osmino Wi-Fi: free WiFi',\n",
       " 'TOOLS',\n",
       " '4.2',\n",
       " '134203',\n",
       " '4.1M',\n",
       " '10,000,000+',\n",
       " 'Free',\n",
       " '0',\n",
       " 'Everyone',\n",
       " 'Tools',\n",
       " 'August 7, 2018',\n",
       " '6.06.14',\n",
       " '4.4 and up']"
      ]
     },
     "execution_count": 6,
     "metadata": {},
     "output_type": "execute_result"
    }
   ],
   "source": [
    "google[10472]"
   ]
  },
  {
   "cell_type": "markdown",
   "id": "fcffe7e0",
   "metadata": {},
   "source": [
    "Looking at the [discussion section](https://www.kaggle.com/datasets/ramamet4/app-store-apple-data-set-10k-apps/discussion) for the App Store dataset, there do not seem to be any reports of wrong data."
   ]
  },
  {
   "cell_type": "markdown",
   "id": "d8e46a69",
   "metadata": {},
   "source": [
    "## Removing duplicate entries"
   ]
  },
  {
   "cell_type": "markdown",
   "id": "2c7600c9",
   "metadata": {},
   "source": [
    "There are 4 apps with the name `Instagram` in the Google Play dataset:"
   ]
  },
  {
   "cell_type": "code",
   "execution_count": 7,
   "id": "35368caa",
   "metadata": {},
   "outputs": [
    {
     "name": "stdout",
     "output_type": "stream",
     "text": [
      "['Instagram', 'SOCIAL', '4.5', '66577313', 'Varies with device', '1,000,000,000+', 'Free', '0', 'Teen', 'Social', 'July 31, 2018', 'Varies with device', 'Varies with device']\n",
      "\n",
      "\n",
      "['Instagram', 'SOCIAL', '4.5', '66577446', 'Varies with device', '1,000,000,000+', 'Free', '0', 'Teen', 'Social', 'July 31, 2018', 'Varies with device', 'Varies with device']\n",
      "\n",
      "\n",
      "['Instagram', 'SOCIAL', '4.5', '66577313', 'Varies with device', '1,000,000,000+', 'Free', '0', 'Teen', 'Social', 'July 31, 2018', 'Varies with device', 'Varies with device']\n",
      "\n",
      "\n",
      "['Instagram', 'SOCIAL', '4.5', '66509917', 'Varies with device', '1,000,000,000+', 'Free', '0', 'Teen', 'Social', 'July 31, 2018', 'Varies with device', 'Varies with device']\n",
      "\n",
      "\n"
     ]
    }
   ],
   "source": [
    "for app in google:\n",
    "    name = app[0]\n",
    "    if name == \"Instagram\":\n",
    "        print(app)\n",
    "        print(\"\\n\")"
   ]
  },
  {
   "cell_type": "markdown",
   "id": "98714031",
   "metadata": {},
   "source": [
    "Let's write some code to find out how many duplicate app names there are:"
   ]
  },
  {
   "cell_type": "code",
   "execution_count": 8,
   "id": "5e29b41d",
   "metadata": {},
   "outputs": [
    {
     "name": "stdout",
     "output_type": "stream",
     "text": [
      "Number of unique apps: 9659 \n",
      "Number of duplicate apps: 1181 \n",
      "\n",
      "Some duplicate app names:\n",
      " ['Quick PDF Scanner + OCR FREE', 'Box', 'Google My Business', 'ZOOM Cloud Meetings', 'join.me - Simple Meetings', 'Box', 'Zenefits', 'Google Ads', 'Google My Business', 'Slack', 'FreshBooks Classic', 'Insightly CRM', 'QuickBooks Accounting: Invoicing & Expenses', 'HipChat - Chat Built for Teams', 'Xero Accounting Software', 'MailChimp - Email, Marketing Automation', 'Crew - Free Messaging and Scheduling', 'Asana: organize team projects', 'Google Analytics', 'AdWords Express']\n"
     ]
    }
   ],
   "source": [
    "unique_apps = []\n",
    "duplicate_apps = []\n",
    "\n",
    "for app in google:\n",
    "    name = app[0]\n",
    "    if name not in unique_apps:\n",
    "        unique_apps.append(name)\n",
    "    else:\n",
    "        duplicate_apps.append(name)\n",
    "print(\"Number of unique apps:\", len(unique_apps), \"\\nNumber of duplicate apps:\",len(duplicate_apps),\"\\n\")\n",
    "\n",
    "print(\"Some duplicate app names:\\n\", duplicate_apps[:20])"
   ]
  },
  {
   "cell_type": "markdown",
   "id": "cc8f5259",
   "metadata": {},
   "source": [
    "We only want to keep one record for each app name. We'll keep the one with the most reviews as this is most likely to correspond to the most recent data. To do that, we will:\n",
    "\n",
    "- Create a dictionary, where each dictionary key is a unique app name and the corresponding dictionary value is the highest number of reviews of that app.\n",
    "\n",
    "- Use the information stored in the dictionary and create a new dataset, which will have only one entry per app (and for each app, we'll only select the entry with the highest number of reviews)."
   ]
  },
  {
   "cell_type": "code",
   "execution_count": 9,
   "id": "0874fa04",
   "metadata": {},
   "outputs": [
    {
     "data": {
      "text/plain": [
       "66577446.0"
      ]
     },
     "execution_count": 9,
     "metadata": {},
     "output_type": "execute_result"
    }
   ],
   "source": [
    "reviews_max = {}\n",
    "\n",
    "for app in google:\n",
    "    name = app[0]\n",
    "    n_reviews = float(app[3])\n",
    "    if name in reviews_max and reviews_max[name] < n_reviews:\n",
    "        reviews_max[name] = n_reviews\n",
    "    elif name not in reviews_max:\n",
    "        reviews_max[name] = n_reviews\n",
    "        \n",
    "reviews_max['Instagram']"
   ]
  },
  {
   "cell_type": "markdown",
   "id": "89ece7c5",
   "metadata": {},
   "source": [
    "We now create the new dataset, without duplicates. \n",
    "\n",
    "We create two empty lists, one that will have the new dataset (without duplicates) and one to keep track of the apps that have already been added to the new dataset. We loop through the original dataset, assigning names for each app and the number of reviews as a float. If the number of reviews are the same as the maximum that we found earlier, and it isn't already in the list, we append the app to the new dataset and its name to the `already_added` list. We need the `not in already_added` condition to account for cases where duplicate app entries have the same number of reviews as the maximum number of reviews. "
   ]
  },
  {
   "cell_type": "code",
   "execution_count": 10,
   "id": "f55eec35",
   "metadata": {},
   "outputs": [
    {
     "data": {
      "text/plain": [
       "9659"
      ]
     },
     "execution_count": 10,
     "metadata": {},
     "output_type": "execute_result"
    }
   ],
   "source": [
    "android_clean = []\n",
    "already_added = []\n",
    "\n",
    "for app in google:\n",
    "    name = app[0]\n",
    "    n_reviews = float(app[3])\n",
    "    if n_reviews == reviews_max[name] and name not in already_added:\n",
    "        android_clean.append(app)\n",
    "        already_added.append(name)\n",
    "android_clean[:20], already_added[:20]\n",
    "len(android_clean)"
   ]
  },
  {
   "cell_type": "markdown",
   "id": "1981fe9e",
   "metadata": {},
   "source": [
    "We could try the same procedure for the iOS apps, but it turns out that there are no duplicates:"
   ]
  },
  {
   "cell_type": "code",
   "execution_count": 11,
   "id": "958370a0",
   "metadata": {},
   "outputs": [
    {
     "data": {
      "text/plain": [
       "['id',\n",
       " 'track_name',\n",
       " 'size_bytes',\n",
       " 'currency',\n",
       " 'price',\n",
       " 'rating_count_tot',\n",
       " 'rating_count_ver',\n",
       " 'user_rating',\n",
       " 'user_rating_ver',\n",
       " 'ver',\n",
       " 'cont_rating',\n",
       " 'prime_genre',\n",
       " 'sup_devices.num',\n",
       " 'ipadSc_urls.num',\n",
       " 'lang.num',\n",
       " 'vpp_lic']"
      ]
     },
     "execution_count": 11,
     "metadata": {},
     "output_type": "execute_result"
    }
   ],
   "source": [
    "apple_header    "
   ]
  },
  {
   "cell_type": "code",
   "execution_count": 12,
   "id": "a94bb191",
   "metadata": {},
   "outputs": [
    {
     "data": {
      "text/plain": [
       "(7197, 0)"
      ]
     },
     "execution_count": 12,
     "metadata": {},
     "output_type": "execute_result"
    }
   ],
   "source": [
    "unique_ios_apps = []\n",
    "duplicate_ios_apps = []\n",
    "\n",
    "for app in apple:\n",
    "    id_number = app[0]\n",
    "    if id_number not in unique_ios_apps:\n",
    "        unique_ios_apps.append(id_number)\n",
    "    else:\n",
    "        duplicate_ios_apps.append(id_number)\n",
    "        \n",
    "len(unique_ios_apps), len(duplicate_ios_apps)"
   ]
  },
  {
   "cell_type": "markdown",
   "id": "e984eef8",
   "metadata": {},
   "source": [
    "## Removing non-English apps"
   ]
  },
  {
   "cell_type": "markdown",
   "id": "320dc298",
   "metadata": {},
   "source": [
    "One way to remove the non-English apps is to remove any apps that contain characters not commonly used in the English language, i.e. anything that isn't from the English alphabet, a digit from 0 to 9, a punctuation mark (,.?!;:), or a special character (+_*/\\`@#~_-=). The characters specific to English text are known as _ASCII characters_.\n",
    "\n",
    "Each character has a number associated with it, which we can obtain using the `ord()` function. This number for the ASCII characters is always in the range 0 to 127. So we can remove all apps with an associated number outside of this range."
   ]
  },
  {
   "cell_type": "code",
   "execution_count": 13,
   "id": "56a1d9b6",
   "metadata": {},
   "outputs": [
    {
     "data": {
      "text/plain": [
       "97"
      ]
     },
     "execution_count": 13,
     "metadata": {},
     "output_type": "execute_result"
    }
   ],
   "source": [
    "ord('a')"
   ]
  },
  {
   "cell_type": "code",
   "execution_count": 14,
   "id": "34d14874",
   "metadata": {},
   "outputs": [
    {
     "data": {
      "text/plain": [
       "241"
      ]
     },
     "execution_count": 14,
     "metadata": {},
     "output_type": "execute_result"
    }
   ],
   "source": [
    "ord('ñ')"
   ]
  },
  {
   "cell_type": "markdown",
   "id": "d93b880d",
   "metadata": {},
   "source": [
    "We can iterate on each character in the string."
   ]
  },
  {
   "cell_type": "code",
   "execution_count": 15,
   "id": "67655060",
   "metadata": {},
   "outputs": [],
   "source": [
    "def is_English(string):\n",
    "    for char in string:\n",
    "        if ord(char) > 127:\n",
    "            return False\n",
    "    return True"
   ]
  },
  {
   "cell_type": "code",
   "execution_count": 16,
   "id": "a5c5abf0",
   "metadata": {},
   "outputs": [
    {
     "name": "stdout",
     "output_type": "stream",
     "text": [
      "True\n",
      "False\n"
     ]
    }
   ],
   "source": [
    "print(is_English('Instagram'))\n",
    "print(is_English('Dolphin Browser - Fast, Private & Adblock🐬'))"
   ]
  },
  {
   "cell_type": "markdown",
   "id": "513ae4b0",
   "metadata": {},
   "source": [
    "This does work, however it labels some English apps as non-English even if they contain an Emoji or two. So we end up removing far too many apps. We will make our condition on strings less stringent by allowing apps that contain up to 3 characters outside of our permitted range of characters. "
   ]
  },
  {
   "cell_type": "code",
   "execution_count": 17,
   "id": "87a70109",
   "metadata": {},
   "outputs": [
    {
     "name": "stdout",
     "output_type": "stream",
     "text": [
      "True\n",
      "True\n",
      "False\n",
      "True\n",
      "True\n",
      "True\n"
     ]
    }
   ],
   "source": [
    "def is_English(string):\n",
    "    non_ascii = 0\n",
    "    \n",
    "    for char in string:\n",
    "        \n",
    "        if ord(char) > 127:\n",
    "            non_ascii += 1\n",
    "            \n",
    "        if non_ascii > 3:\n",
    "            return False\n",
    "        \n",
    "    return True\n",
    "\n",
    "print(is_English('Instagram'))\n",
    "print(is_English('Dolphin Browser - Fast, Private & Adblock🐬'))\n",
    "print(is_English('爱奇艺PPS -《欢乐颂2》电视剧热播'))\n",
    "print(is_English('Docs To Go™ Free Office Suite'))\n",
    "print(is_English('Instachat 😜'))\n",
    "print(is_English('Español'))"
   ]
  },
  {
   "cell_type": "markdown",
   "id": "0a4b27e3",
   "metadata": {},
   "source": [
    "This function is still not perfect. Some non-English apps still may get through, but it is enough for our analysis. Let's now filter out the non-English apps:"
   ]
  },
  {
   "cell_type": "code",
   "execution_count": 18,
   "id": "77e62031",
   "metadata": {},
   "outputs": [],
   "source": [
    "android_english = []\n",
    "ios_english = []\n",
    "\n",
    "for app in android_clean:\n",
    "    name = app[0]\n",
    "    if is_English(name):\n",
    "        android_english.append(app)\n",
    "\n",
    "for app in apple:\n",
    "    name = app[1]\n",
    "    if is_English(name):\n",
    "        ios_english.append(app)"
   ]
  },
  {
   "cell_type": "code",
   "execution_count": 19,
   "id": "becd6b37",
   "metadata": {},
   "outputs": [
    {
     "name": "stdout",
     "output_type": "stream",
     "text": [
      "Android English apps:\n",
      "['Photo Editor & Candy Camera & Grid & ScrapBook', 'ART_AND_DESIGN', '4.1', '159', '19M', '10,000+', 'Free', '0', 'Everyone', 'Art & Design', 'January 7, 2018', '1.0.0', '4.0.3 and up']\n",
      "\n",
      "\n",
      "['U Launcher Lite – FREE Live Cool Themes, Hide Apps', 'ART_AND_DESIGN', '4.7', '87510', '8.7M', '5,000,000+', 'Free', '0', 'Everyone', 'Art & Design', 'August 1, 2018', '1.2.4', '4.0.3 and up']\n",
      "\n",
      "\n",
      "['Sketch - Draw & Paint', 'ART_AND_DESIGN', '4.5', '215644', '25M', '50,000,000+', 'Free', '0', 'Teen', 'Art & Design', 'June 8, 2018', 'Varies with device', '4.2 and up']\n",
      "\n",
      "\n",
      "['Pixel Draw - Number Art Coloring Book', 'ART_AND_DESIGN', '4.3', '967', '2.8M', '100,000+', 'Free', '0', 'Everyone', 'Art & Design;Creativity', 'June 20, 2018', '1.1', '4.4 and up']\n",
      "\n",
      "\n",
      "['Paper flowers instructions', 'ART_AND_DESIGN', '4.4', '167', '5.6M', '50,000+', 'Free', '0', 'Everyone', 'Art & Design', 'March 26, 2017', '1.0', '2.3 and up']\n",
      "\n",
      "\n",
      "['Smoke Effect Photo Maker - Smoke Editor', 'ART_AND_DESIGN', '3.8', '178', '19M', '50,000+', 'Free', '0', 'Everyone', 'Art & Design', 'April 26, 2018', '1.1', '4.0.3 and up']\n",
      "\n",
      "\n",
      "['Infinite Painter', 'ART_AND_DESIGN', '4.1', '36815', '29M', '1,000,000+', 'Free', '0', 'Everyone', 'Art & Design', 'June 14, 2018', '6.1.61.1', '4.2 and up']\n",
      "\n",
      "\n",
      "['Garden Coloring Book', 'ART_AND_DESIGN', '4.4', '13791', '33M', '1,000,000+', 'Free', '0', 'Everyone', 'Art & Design', 'September 20, 2017', '2.9.2', '3.0 and up']\n",
      "\n",
      "\n",
      "['Kids Paint Free - Drawing Fun', 'ART_AND_DESIGN', '4.7', '121', '3.1M', '10,000+', 'Free', '0', 'Everyone', 'Art & Design;Creativity', 'July 3, 2018', '2.8', '4.0.3 and up']\n",
      "\n",
      "\n",
      "['Text on Photo - Fonteee', 'ART_AND_DESIGN', '4.4', '13880', '28M', '1,000,000+', 'Free', '0', 'Everyone', 'Art & Design', 'October 27, 2017', '1.0.4', '4.1 and up']\n",
      "\n",
      "\n",
      "iOS English apps:\n",
      "['284882215', 'Facebook', '389879808', 'USD', '0.0', '2974676', '212', '3.5', '3.5', '95.0', '4+', 'Social Networking', '37', '1', '29', '1']\n",
      "\n",
      "\n",
      "['389801252', 'Instagram', '113954816', 'USD', '0.0', '2161558', '1289', '4.5', '4.0', '10.23', '12+', 'Photo & Video', '37', '0', '29', '1']\n",
      "\n",
      "\n",
      "['529479190', 'Clash of Clans', '116476928', 'USD', '0.0', '2130805', '579', '4.5', '4.5', '9.24.12', '9+', 'Games', '38', '5', '18', '1']\n",
      "\n",
      "\n",
      "['420009108', 'Temple Run', '65921024', 'USD', '0.0', '1724546', '3842', '4.5', '4.0', '1.6.2', '9+', 'Games', '40', '5', '1', '1']\n",
      "\n",
      "\n",
      "['284035177', 'Pandora - Music & Radio', '130242560', 'USD', '0.0', '1126879', '3594', '4.0', '4.5', '8.4.1', '12+', 'Music', '37', '4', '1', '1']\n",
      "\n",
      "\n",
      "['429047995', 'Pinterest', '74778624', 'USD', '0.0', '1061624', '1814', '4.5', '4.0', '6.26', '12+', 'Social Networking', '37', '5', '27', '1']\n",
      "\n",
      "\n",
      "['282935706', 'Bible', '92774400', 'USD', '0.0', '985920', '5320', '4.5', '5.0', '7.5.1', '4+', 'Reference', '37', '5', '45', '1']\n",
      "\n",
      "\n",
      "['553834731', 'Candy Crush Saga', '222846976', 'USD', '0.0', '961794', '2453', '4.5', '4.5', '1.101.0', '4+', 'Games', '43', '5', '24', '1']\n",
      "\n",
      "\n",
      "['324684580', 'Spotify Music', '132510720', 'USD', '0.0', '878563', '8253', '4.5', '4.5', '8.4.3', '12+', 'Music', '37', '5', '18', '1']\n",
      "\n",
      "\n",
      "['343200656', 'Angry Birds', '175966208', 'USD', '0.0', '824451', '107', '4.5', '3.0', '7.4.0', '4+', 'Games', '38', '0', '10', '1']\n",
      "\n",
      "\n"
     ]
    }
   ],
   "source": [
    "print(\"Android English apps:\")\n",
    "explore_data(android_english,0,10)\n",
    "print(\"iOS English apps:\")\n",
    "explore_data(ios_english,0,10)"
   ]
  },
  {
   "cell_type": "code",
   "execution_count": 20,
   "id": "df741e69",
   "metadata": {},
   "outputs": [
    {
     "name": "stdout",
     "output_type": "stream",
     "text": [
      "Number of English Android apps: 9614\n",
      "Number of English iOS apps: 6183\n"
     ]
    }
   ],
   "source": [
    "print(\"Number of English Android apps:\", len(android_english))\n",
    "print(\"Number of English iOS apps:\", len(ios_english))"
   ]
  },
  {
   "cell_type": "markdown",
   "id": "6bb42cb0",
   "metadata": {},
   "source": [
    "## Isolating the Free Apps"
   ]
  },
  {
   "cell_type": "markdown",
   "id": "3c5b3ec4",
   "metadata": {},
   "source": [
    "So far we have:\n",
    "\n",
    "- Removed inaccurate data\n",
    "- Removed duplicate app entries\n",
    "- Removed non-English apps\n",
    "\n",
    "It remains to remove the paid apps, as our company is only interested in apps that are free to download/install."
   ]
  },
  {
   "cell_type": "code",
   "execution_count": 21,
   "id": "c50425a5",
   "metadata": {},
   "outputs": [
    {
     "name": "stdout",
     "output_type": "stream",
     "text": [
      "['Photo Editor & Candy Camera & Grid & ScrapBook', 'ART_AND_DESIGN', '4.1', '159', '19M', '10,000+', 'Free', '0', 'Everyone', 'Art & Design', 'January 7, 2018', '1.0.0', '4.0.3 and up']\n",
      "\n",
      "\n",
      "['U Launcher Lite – FREE Live Cool Themes, Hide Apps', 'ART_AND_DESIGN', '4.7', '87510', '8.7M', '5,000,000+', 'Free', '0', 'Everyone', 'Art & Design', 'August 1, 2018', '1.2.4', '4.0.3 and up']\n",
      "\n",
      "\n",
      "['Sketch - Draw & Paint', 'ART_AND_DESIGN', '4.5', '215644', '25M', '50,000,000+', 'Free', '0', 'Teen', 'Art & Design', 'June 8, 2018', 'Varies with device', '4.2 and up']\n",
      "\n",
      "\n",
      "['Pixel Draw - Number Art Coloring Book', 'ART_AND_DESIGN', '4.3', '967', '2.8M', '100,000+', 'Free', '0', 'Everyone', 'Art & Design;Creativity', 'June 20, 2018', '1.1', '4.4 and up']\n",
      "\n",
      "\n",
      "['Paper flowers instructions', 'ART_AND_DESIGN', '4.4', '167', '5.6M', '50,000+', 'Free', '0', 'Everyone', 'Art & Design', 'March 26, 2017', '1.0', '2.3 and up']\n",
      "\n",
      "\n",
      "['284882215', 'Facebook', '389879808', 'USD', '0.0', '2974676', '212', '3.5', '3.5', '95.0', '4+', 'Social Networking', '37', '1', '29', '1']\n",
      "\n",
      "\n",
      "['389801252', 'Instagram', '113954816', 'USD', '0.0', '2161558', '1289', '4.5', '4.0', '10.23', '12+', 'Photo & Video', '37', '0', '29', '1']\n",
      "\n",
      "\n",
      "['529479190', 'Clash of Clans', '116476928', 'USD', '0.0', '2130805', '579', '4.5', '4.5', '9.24.12', '9+', 'Games', '38', '5', '18', '1']\n",
      "\n",
      "\n",
      "['420009108', 'Temple Run', '65921024', 'USD', '0.0', '1724546', '3842', '4.5', '4.0', '1.6.2', '9+', 'Games', '40', '5', '1', '1']\n",
      "\n",
      "\n",
      "['284035177', 'Pandora - Music & Radio', '130242560', 'USD', '0.0', '1126879', '3594', '4.0', '4.5', '8.4.1', '12+', 'Music', '37', '4', '1', '1']\n",
      "\n",
      "\n"
     ]
    }
   ],
   "source": [
    "android_apps = []\n",
    "ios_apps = []\n",
    "\n",
    "for app in android_english:\n",
    "    price = app[7]\n",
    "    if price == \"0\":\n",
    "        android_apps.append(app)\n",
    "        \n",
    "for app in ios_english:\n",
    "    price = app[4]\n",
    "    if price == \"0.0\":\n",
    "        ios_apps.append(app)\n",
    "        \n",
    "explore_data(android_apps,0,5)\n",
    "        \n",
    "explore_data(ios_apps,0,5)"
   ]
  },
  {
   "cell_type": "code",
   "execution_count": 22,
   "id": "91a459fe",
   "metadata": {},
   "outputs": [
    {
     "data": {
      "text/plain": [
       "(8864, 3222)"
      ]
     },
     "execution_count": 22,
     "metadata": {},
     "output_type": "execute_result"
    }
   ],
   "source": [
    "len(android_apps), len(ios_apps)"
   ]
  },
  {
   "cell_type": "markdown",
   "id": "1bff3b7f",
   "metadata": {},
   "source": [
    "We have now finished cleaning our data. Our goal now is to use the data to identify which apps are likely to attract more users, in order to maximise ad revenue. To minimise risks, our validation strategy for an app idea has three steps:\n",
    "\n",
    "- Build a minimal Android version of the app, and add it to Google Play.\n",
    "- If the app has a good response from users, we develop it further.\n",
    "- If the app is profitable after six months, we build an iOS version of the app and add it to the App Store.\n",
    "\n",
    "The end goal is to make an app suitable (and preferably profitable) in both the Android and iOS markets. Let's begin by determining the most common genres for each market. For this, we'll need to build frequency tables for a few columns in our datasets. We will display the frequencies as percentages. We use a dictionary to do this."
   ]
  },
  {
   "cell_type": "code",
   "execution_count": 23,
   "id": "ca0bf3e7",
   "metadata": {},
   "outputs": [
    {
     "data": {
      "text/plain": [
       "{'Art & Design': 0.5979241877256317,\n",
       " 'Art & Design;Creativity': 0.06768953068592057,\n",
       " 'Auto & Vehicles': 0.9250902527075812,\n",
       " 'Beauty': 0.5979241877256317,\n",
       " 'Books & Reference': 2.1435018050541514,\n",
       " 'Business': 4.591606498194946,\n",
       " 'Comics': 0.6092057761732852,\n",
       " 'Comics;Creativity': 0.01128158844765343,\n",
       " 'Communication': 3.2378158844765346,\n",
       " 'Dating': 1.861462093862816,\n",
       " 'Education': 5.347472924187725,\n",
       " 'Education;Creativity': 0.04512635379061372,\n",
       " 'Education;Education': 0.33844765342960287,\n",
       " 'Education;Pretend Play': 0.056407942238267145,\n",
       " 'Education;Brain Games': 0.033844765342960284,\n",
       " 'Entertainment': 6.069494584837545,\n",
       " 'Entertainment;Brain Games': 0.078971119133574,\n",
       " 'Entertainment;Creativity': 0.033844765342960284,\n",
       " 'Entertainment;Music & Video': 0.16922382671480143,\n",
       " 'Events': 0.7107400722021661,\n",
       " 'Finance': 3.7003610108303246,\n",
       " 'Food & Drink': 1.2409747292418771,\n",
       " 'Health & Fitness': 3.0798736462093865,\n",
       " 'House & Home': 0.8235559566787004,\n",
       " 'Libraries & Demo': 0.9363718411552346,\n",
       " 'Lifestyle': 3.892148014440433,\n",
       " 'Lifestyle;Pretend Play': 0.01128158844765343,\n",
       " 'Card': 0.45126353790613716,\n",
       " 'Arcade': 1.8501805054151623,\n",
       " 'Puzzle': 1.128158844765343,\n",
       " 'Racing': 0.9927797833935018,\n",
       " 'Sports': 3.463447653429603,\n",
       " 'Casual': 1.7599277978339352,\n",
       " 'Simulation': 2.0419675090252705,\n",
       " 'Adventure': 0.6768953068592057,\n",
       " 'Trivia': 0.41741877256317694,\n",
       " 'Action': 3.1024368231046933,\n",
       " 'Word': 0.2594765342960289,\n",
       " 'Role Playing': 0.9363718411552346,\n",
       " 'Strategy': 0.9138086642599278,\n",
       " 'Board': 0.3835740072202166,\n",
       " 'Music': 0.2030685920577617,\n",
       " 'Action;Action & Adventure': 0.10153429602888085,\n",
       " 'Casual;Brain Games': 0.13537906137184114,\n",
       " 'Educational;Creativity': 0.033844765342960284,\n",
       " 'Puzzle;Brain Games': 0.16922382671480143,\n",
       " 'Educational;Education': 0.39485559566787,\n",
       " 'Casual;Pretend Play': 0.236913357400722,\n",
       " 'Educational;Brain Games': 0.06768953068592057,\n",
       " 'Art & Design;Pretend Play': 0.01128158844765343,\n",
       " 'Educational;Pretend Play': 0.09025270758122744,\n",
       " 'Entertainment;Education': 0.01128158844765343,\n",
       " 'Casual;Education': 0.02256317689530686,\n",
       " 'Casual;Creativity': 0.06768953068592057,\n",
       " 'Casual;Action & Adventure': 0.13537906137184114,\n",
       " 'Music;Music & Video': 0.02256317689530686,\n",
       " 'Arcade;Pretend Play': 0.01128158844765343,\n",
       " 'Adventure;Action & Adventure': 0.033844765342960284,\n",
       " 'Role Playing;Action & Adventure': 0.033844765342960284,\n",
       " 'Simulation;Pretend Play': 0.02256317689530686,\n",
       " 'Puzzle;Creativity': 0.02256317689530686,\n",
       " 'Simulation;Action & Adventure': 0.078971119133574,\n",
       " 'Racing;Action & Adventure': 0.16922382671480143,\n",
       " 'Sports;Action & Adventure': 0.02256317689530686,\n",
       " 'Educational;Action & Adventure': 0.033844765342960284,\n",
       " 'Arcade;Action & Adventure': 0.12409747292418773,\n",
       " 'Entertainment;Action & Adventure': 0.033844765342960284,\n",
       " 'Art & Design;Action & Adventure': 0.01128158844765343,\n",
       " 'Puzzle;Action & Adventure': 0.033844765342960284,\n",
       " 'Education;Action & Adventure': 0.033844765342960284,\n",
       " 'Strategy;Action & Adventure': 0.01128158844765343,\n",
       " 'Music & Audio;Music & Video': 0.01128158844765343,\n",
       " 'Health & Fitness;Education': 0.01128158844765343,\n",
       " 'Board;Action & Adventure': 0.02256317689530686,\n",
       " 'Board;Brain Games': 0.078971119133574,\n",
       " 'Casual;Music & Video': 0.01128158844765343,\n",
       " 'Education;Music & Video': 0.033844765342960284,\n",
       " 'Role Playing;Pretend Play': 0.04512635379061372,\n",
       " 'Entertainment;Pretend Play': 0.02256317689530686,\n",
       " 'Medical': 3.531137184115524,\n",
       " 'Social': 2.6624548736462095,\n",
       " 'Shopping': 2.2450361010830324,\n",
       " 'Photography': 2.944494584837545,\n",
       " 'Travel & Local': 2.3240072202166067,\n",
       " 'Travel & Local;Action & Adventure': 0.01128158844765343,\n",
       " 'Tools': 8.449909747292418,\n",
       " 'Tools;Education': 0.01128158844765343,\n",
       " 'Personalization': 3.3167870036101084,\n",
       " 'Productivity': 3.892148014440433,\n",
       " 'Parenting': 0.4963898916967509,\n",
       " 'Parenting;Music & Video': 0.06768953068592057,\n",
       " 'Parenting;Education': 0.078971119133574,\n",
       " 'Parenting;Brain Games': 0.01128158844765343,\n",
       " 'Weather': 0.8009927797833934,\n",
       " 'Video Players & Editors': 1.7712093862815883,\n",
       " 'Video Players & Editors;Music & Video': 0.02256317689530686,\n",
       " 'Video Players & Editors;Creativity': 0.01128158844765343,\n",
       " 'News & Magazines': 2.7978339350180503,\n",
       " 'Maps & Navigation': 1.3989169675090252,\n",
       " 'Health & Fitness;Action & Adventure': 0.01128158844765343,\n",
       " 'Educational': 0.3722924187725632,\n",
       " 'Casino': 0.42870036101083037,\n",
       " 'Trivia;Education': 0.01128158844765343,\n",
       " 'Lifestyle;Education': 0.01128158844765343,\n",
       " 'Card;Action & Adventure': 0.01128158844765343,\n",
       " 'Books & Reference;Education': 0.01128158844765343,\n",
       " 'Simulation;Education': 0.01128158844765343,\n",
       " 'Puzzle;Education': 0.01128158844765343,\n",
       " 'Adventure;Education': 0.01128158844765343,\n",
       " 'Role Playing;Brain Games': 0.01128158844765343,\n",
       " 'Strategy;Education': 0.01128158844765343,\n",
       " 'Racing;Pretend Play': 0.01128158844765343,\n",
       " 'Communication;Creativity': 0.01128158844765343,\n",
       " 'Strategy;Creativity': 0.01128158844765343}"
      ]
     },
     "execution_count": 23,
     "metadata": {},
     "output_type": "execute_result"
    }
   ],
   "source": [
    "def freq_table(dataset, index):\n",
    "    frequency_table = {}\n",
    "    total = 0\n",
    "    for app in dataset:\n",
    "        item = app[index]\n",
    "        total += 1\n",
    "        if item in frequency_table:\n",
    "            frequency_table[item] += 1\n",
    "        else:\n",
    "            frequency_table[item] = 1\n",
    "    \n",
    "    percentage_table = {}\n",
    "    \n",
    "    for key in frequency_table:\n",
    "        percentage = (frequency_table[key] / total) * 100\n",
    "        percentage_table[key] = percentage\n",
    "    return percentage_table\n",
    "    \n",
    "freq_table(android_apps,9)"
   ]
  },
  {
   "cell_type": "markdown",
   "id": "92d927b4",
   "metadata": {},
   "source": [
    "This is good but it is very difficult to analyse the frequencies without them being in order. For this, we will use the built-in `sorted()` function, which takes as input an iterable data type and outputs a list of their elements in ascending/descending order. However, it doesn't work too well with dictionaries because it only considers and returns the dictionary keys. To remedy this, we transform the dictionary into a list of tuples, where each tuple contains a dictionary key along with its corresponding dictionary value. To ensure the sorting works right, the dictionary value comes first, and the dictionary key comes second. There are much simpler ways to do this once we learn more advanced techniques. Using this workaround, we write a function called  `display_table()`:"
   ]
  },
  {
   "cell_type": "code",
   "execution_count": 24,
   "id": "035041ac",
   "metadata": {},
   "outputs": [],
   "source": [
    "def display_table(dataset, index):\n",
    "    table = freq_table(dataset, index)\n",
    "    tuple_list = []\n",
    "    \n",
    "    for key in table:\n",
    "        tup = (table[key], key)\n",
    "        tuple_list.append(tup)\n",
    "    sorted_table = sorted(tuple_list, reverse = True)\n",
    "    \n",
    "    for entry in sorted_table:\n",
    "        print(entry[1] + \":\", entry[0])"
   ]
  },
  {
   "cell_type": "code",
   "execution_count": 25,
   "id": "d29832f1",
   "metadata": {},
   "outputs": [
    {
     "name": "stdout",
     "output_type": "stream",
     "text": [
      "Games: 58.16263190564867\n",
      "Entertainment: 7.883302296710118\n",
      "Photo & Video: 4.9658597144630665\n",
      "Education: 3.662321539416512\n",
      "Social Networking: 3.2898820608317814\n",
      "Shopping: 2.60707635009311\n",
      "Utilities: 2.5139664804469275\n",
      "Sports: 2.1415270018621975\n",
      "Music: 2.0484171322160147\n",
      "Health & Fitness: 2.0173805090006205\n",
      "Productivity: 1.7380509000620732\n",
      "Lifestyle: 1.5828677839851024\n",
      "News: 1.3345747982619491\n",
      "Travel: 1.2414649286157666\n",
      "Finance: 1.1173184357541899\n",
      "Weather: 0.8690254500310366\n",
      "Food & Drink: 0.8069522036002483\n",
      "Reference: 0.5586592178770949\n",
      "Business: 0.5276225946617008\n",
      "Book: 0.4345127250155183\n",
      "Navigation: 0.186219739292365\n",
      "Medical: 0.186219739292365\n",
      "Catalogs: 0.12414649286157665\n"
     ]
    }
   ],
   "source": [
    "display_table(ios_apps, -5) #prime_genre column in App Store"
   ]
  },
  {
   "cell_type": "markdown",
   "id": "92af8847",
   "metadata": {},
   "source": [
    "Looking at the `prime_genre` column of the App Store dataset, the most common (free, English language) app genre by far is `Games`, followed by `Entertainment`. Most of the apps are designed for entertainment purposes, with 4 of the top 5 genres being related to entertainment. More practical apps make up the bottom segment of the app genres. Based on this frequency table alone, one would be inclined to recommend gaming or entertainment apps for a potential app profile for developers. However, the large number of apps for these categories does not necessarily translate to a large number of users, so it would be wiser to analyse the number of users before coming to a conclusion. "
   ]
  },
  {
   "cell_type": "code",
   "execution_count": 26,
   "id": "ea929680",
   "metadata": {},
   "outputs": [
    {
     "name": "stdout",
     "output_type": "stream",
     "text": [
      "FAMILY: 18.907942238267147\n",
      "GAME: 9.724729241877256\n",
      "TOOLS: 8.461191335740072\n",
      "BUSINESS: 4.591606498194946\n",
      "LIFESTYLE: 3.9034296028880866\n",
      "PRODUCTIVITY: 3.892148014440433\n",
      "FINANCE: 3.7003610108303246\n",
      "MEDICAL: 3.531137184115524\n",
      "SPORTS: 3.395758122743682\n",
      "PERSONALIZATION: 3.3167870036101084\n",
      "COMMUNICATION: 3.2378158844765346\n",
      "HEALTH_AND_FITNESS: 3.0798736462093865\n",
      "PHOTOGRAPHY: 2.944494584837545\n",
      "NEWS_AND_MAGAZINES: 2.7978339350180503\n",
      "SOCIAL: 2.6624548736462095\n",
      "TRAVEL_AND_LOCAL: 2.33528880866426\n",
      "SHOPPING: 2.2450361010830324\n",
      "BOOKS_AND_REFERENCE: 2.1435018050541514\n",
      "DATING: 1.861462093862816\n",
      "VIDEO_PLAYERS: 1.7937725631768955\n",
      "MAPS_AND_NAVIGATION: 1.3989169675090252\n",
      "FOOD_AND_DRINK: 1.2409747292418771\n",
      "EDUCATION: 1.1620036101083033\n",
      "ENTERTAINMENT: 0.9589350180505415\n",
      "LIBRARIES_AND_DEMO: 0.9363718411552346\n",
      "AUTO_AND_VEHICLES: 0.9250902527075812\n",
      "HOUSE_AND_HOME: 0.8235559566787004\n",
      "WEATHER: 0.8009927797833934\n",
      "EVENTS: 0.7107400722021661\n",
      "PARENTING: 0.6543321299638989\n",
      "ART_AND_DESIGN: 0.6430505415162455\n",
      "COMICS: 0.6204873646209386\n",
      "BEAUTY: 0.5979241877256317\n"
     ]
    }
   ],
   "source": [
    "display_table(android_apps, 1) # Category column in Google Play dataset"
   ]
  },
  {
   "cell_type": "code",
   "execution_count": 27,
   "id": "005170b8",
   "metadata": {},
   "outputs": [
    {
     "name": "stdout",
     "output_type": "stream",
     "text": [
      "Tools: 8.449909747292418\n",
      "Entertainment: 6.069494584837545\n",
      "Education: 5.347472924187725\n",
      "Business: 4.591606498194946\n",
      "Productivity: 3.892148014440433\n",
      "Lifestyle: 3.892148014440433\n",
      "Finance: 3.7003610108303246\n",
      "Medical: 3.531137184115524\n",
      "Sports: 3.463447653429603\n",
      "Personalization: 3.3167870036101084\n",
      "Communication: 3.2378158844765346\n",
      "Action: 3.1024368231046933\n",
      "Health & Fitness: 3.0798736462093865\n",
      "Photography: 2.944494584837545\n",
      "News & Magazines: 2.7978339350180503\n",
      "Social: 2.6624548736462095\n",
      "Travel & Local: 2.3240072202166067\n",
      "Shopping: 2.2450361010830324\n",
      "Books & Reference: 2.1435018050541514\n",
      "Simulation: 2.0419675090252705\n",
      "Dating: 1.861462093862816\n",
      "Arcade: 1.8501805054151623\n",
      "Video Players & Editors: 1.7712093862815883\n",
      "Casual: 1.7599277978339352\n",
      "Maps & Navigation: 1.3989169675090252\n",
      "Food & Drink: 1.2409747292418771\n",
      "Puzzle: 1.128158844765343\n",
      "Racing: 0.9927797833935018\n",
      "Role Playing: 0.9363718411552346\n",
      "Libraries & Demo: 0.9363718411552346\n",
      "Auto & Vehicles: 0.9250902527075812\n",
      "Strategy: 0.9138086642599278\n",
      "House & Home: 0.8235559566787004\n",
      "Weather: 0.8009927797833934\n",
      "Events: 0.7107400722021661\n",
      "Adventure: 0.6768953068592057\n",
      "Comics: 0.6092057761732852\n",
      "Beauty: 0.5979241877256317\n",
      "Art & Design: 0.5979241877256317\n",
      "Parenting: 0.4963898916967509\n",
      "Card: 0.45126353790613716\n",
      "Casino: 0.42870036101083037\n",
      "Trivia: 0.41741877256317694\n",
      "Educational;Education: 0.39485559566787\n",
      "Board: 0.3835740072202166\n",
      "Educational: 0.3722924187725632\n",
      "Education;Education: 0.33844765342960287\n",
      "Word: 0.2594765342960289\n",
      "Casual;Pretend Play: 0.236913357400722\n",
      "Music: 0.2030685920577617\n",
      "Racing;Action & Adventure: 0.16922382671480143\n",
      "Puzzle;Brain Games: 0.16922382671480143\n",
      "Entertainment;Music & Video: 0.16922382671480143\n",
      "Casual;Brain Games: 0.13537906137184114\n",
      "Casual;Action & Adventure: 0.13537906137184114\n",
      "Arcade;Action & Adventure: 0.12409747292418773\n",
      "Action;Action & Adventure: 0.10153429602888085\n",
      "Educational;Pretend Play: 0.09025270758122744\n",
      "Simulation;Action & Adventure: 0.078971119133574\n",
      "Parenting;Education: 0.078971119133574\n",
      "Entertainment;Brain Games: 0.078971119133574\n",
      "Board;Brain Games: 0.078971119133574\n",
      "Parenting;Music & Video: 0.06768953068592057\n",
      "Educational;Brain Games: 0.06768953068592057\n",
      "Casual;Creativity: 0.06768953068592057\n",
      "Art & Design;Creativity: 0.06768953068592057\n",
      "Education;Pretend Play: 0.056407942238267145\n",
      "Role Playing;Pretend Play: 0.04512635379061372\n",
      "Education;Creativity: 0.04512635379061372\n",
      "Role Playing;Action & Adventure: 0.033844765342960284\n",
      "Puzzle;Action & Adventure: 0.033844765342960284\n",
      "Entertainment;Creativity: 0.033844765342960284\n",
      "Entertainment;Action & Adventure: 0.033844765342960284\n",
      "Educational;Creativity: 0.033844765342960284\n",
      "Educational;Action & Adventure: 0.033844765342960284\n",
      "Education;Music & Video: 0.033844765342960284\n",
      "Education;Brain Games: 0.033844765342960284\n",
      "Education;Action & Adventure: 0.033844765342960284\n",
      "Adventure;Action & Adventure: 0.033844765342960284\n",
      "Video Players & Editors;Music & Video: 0.02256317689530686\n",
      "Sports;Action & Adventure: 0.02256317689530686\n",
      "Simulation;Pretend Play: 0.02256317689530686\n",
      "Puzzle;Creativity: 0.02256317689530686\n",
      "Music;Music & Video: 0.02256317689530686\n",
      "Entertainment;Pretend Play: 0.02256317689530686\n",
      "Casual;Education: 0.02256317689530686\n",
      "Board;Action & Adventure: 0.02256317689530686\n",
      "Video Players & Editors;Creativity: 0.01128158844765343\n",
      "Trivia;Education: 0.01128158844765343\n",
      "Travel & Local;Action & Adventure: 0.01128158844765343\n",
      "Tools;Education: 0.01128158844765343\n",
      "Strategy;Education: 0.01128158844765343\n",
      "Strategy;Creativity: 0.01128158844765343\n",
      "Strategy;Action & Adventure: 0.01128158844765343\n",
      "Simulation;Education: 0.01128158844765343\n",
      "Role Playing;Brain Games: 0.01128158844765343\n",
      "Racing;Pretend Play: 0.01128158844765343\n",
      "Puzzle;Education: 0.01128158844765343\n",
      "Parenting;Brain Games: 0.01128158844765343\n",
      "Music & Audio;Music & Video: 0.01128158844765343\n",
      "Lifestyle;Pretend Play: 0.01128158844765343\n",
      "Lifestyle;Education: 0.01128158844765343\n",
      "Health & Fitness;Education: 0.01128158844765343\n",
      "Health & Fitness;Action & Adventure: 0.01128158844765343\n",
      "Entertainment;Education: 0.01128158844765343\n",
      "Communication;Creativity: 0.01128158844765343\n",
      "Comics;Creativity: 0.01128158844765343\n",
      "Casual;Music & Video: 0.01128158844765343\n",
      "Card;Action & Adventure: 0.01128158844765343\n",
      "Books & Reference;Education: 0.01128158844765343\n",
      "Art & Design;Pretend Play: 0.01128158844765343\n",
      "Art & Design;Action & Adventure: 0.01128158844765343\n",
      "Arcade;Pretend Play: 0.01128158844765343\n",
      "Adventure;Education: 0.01128158844765343\n"
     ]
    }
   ],
   "source": [
    "display_table(android_apps, -4) # Genres column in Google Play dataset"
   ]
  },
  {
   "cell_type": "markdown",
   "id": "4c6fb3ef",
   "metadata": {},
   "source": [
    "The most common categories in the Google Play Store are `FAMILY` (which mainly includes games designed for children) and `GAME`.  The most common genres are `Tools` and `Entertainment`. These trends are not too dissimilar to the App Store. However, there are more practical apps represented on the Play Store, with `Tools`, `Education`, `Business` and `Productivity` being among the most common genres.\n",
    "\n",
    "But based on the number of apps, we can conclude that the App Store has more of a focus on fun: namely entertainment, gaming and social networking. Whereas, the Play Store has more of a practical emphasis, but the most common categories still consist of gaming and entertainment.\n",
    "\n",
    "In both cases, it is difficult to recommend an app genre without knowing the distribution of users, which we will explore next."
   ]
  },
  {
   "cell_type": "markdown",
   "id": "3051efe7",
   "metadata": {},
   "source": [
    "## Most Popular Apps by Genre on the App Store"
   ]
  },
  {
   "cell_type": "markdown",
   "id": "e12fa065",
   "metadata": {},
   "source": [
    "We'd now like to analyse which kind of apps have the most users. One way to determine this is by looking at the number of app installs, which can be found on the `Installs` column in the Google Play dataset. This information is not available in the App Store dataset, so we'll use the number of user ratings instead, `rating_count_tot`. We'll calculate the number of ratings per app genre. To do that, we need to do the following:\n",
    "\n",
    "- Isolate the apps of each genre\n",
    "- Add up the user ratings of each genre\n",
    "- Divide the number of ratings by the number of apps in that genre.\n",
    "\n",
    "We'll need to use a **nested** loop. We start by generating the frequency table for the `prime_genre` column:"
   ]
  },
  {
   "cell_type": "code",
   "execution_count": 28,
   "id": "14ba52bf",
   "metadata": {},
   "outputs": [
    {
     "data": {
      "text/plain": [
       "{'Social Networking': 3.2898820608317814,\n",
       " 'Photo & Video': 4.9658597144630665,\n",
       " 'Games': 58.16263190564867,\n",
       " 'Music': 2.0484171322160147,\n",
       " 'Reference': 0.5586592178770949,\n",
       " 'Health & Fitness': 2.0173805090006205,\n",
       " 'Weather': 0.8690254500310366,\n",
       " 'Utilities': 2.5139664804469275,\n",
       " 'Travel': 1.2414649286157666,\n",
       " 'Shopping': 2.60707635009311,\n",
       " 'News': 1.3345747982619491,\n",
       " 'Navigation': 0.186219739292365,\n",
       " 'Lifestyle': 1.5828677839851024,\n",
       " 'Entertainment': 7.883302296710118,\n",
       " 'Food & Drink': 0.8069522036002483,\n",
       " 'Sports': 2.1415270018621975,\n",
       " 'Book': 0.4345127250155183,\n",
       " 'Finance': 1.1173184357541899,\n",
       " 'Education': 3.662321539416512,\n",
       " 'Productivity': 1.7380509000620732,\n",
       " 'Business': 0.5276225946617008,\n",
       " 'Catalogs': 0.12414649286157665,\n",
       " 'Medical': 0.186219739292365}"
      ]
     },
     "execution_count": 28,
     "metadata": {},
     "output_type": "execute_result"
    }
   ],
   "source": [
    "genres_table = freq_table(ios_apps, -5)\n",
    "genres_table"
   ]
  },
  {
   "cell_type": "code",
   "execution_count": 29,
   "id": "d332e588",
   "metadata": {},
   "outputs": [
    {
     "name": "stdout",
     "output_type": "stream",
     "text": [
      "Social Networking: 71548.34905660378\n",
      "Photo & Video: 28441.54375\n",
      "Games: 22788.6696905016\n",
      "Music: 57326.530303030304\n",
      "Reference: 74942.11111111111\n",
      "Health & Fitness: 23298.015384615384\n",
      "Weather: 52279.892857142855\n",
      "Utilities: 18684.456790123455\n",
      "Travel: 28243.8\n",
      "Shopping: 26919.690476190477\n",
      "News: 21248.023255813954\n",
      "Navigation: 86090.33333333333\n",
      "Lifestyle: 16485.764705882353\n",
      "Entertainment: 14029.830708661417\n",
      "Food & Drink: 33333.92307692308\n",
      "Sports: 23008.898550724636\n",
      "Book: 39758.5\n",
      "Finance: 31467.944444444445\n",
      "Education: 7003.983050847458\n",
      "Productivity: 21028.410714285714\n",
      "Business: 7491.117647058823\n",
      "Catalogs: 4004.0\n",
      "Medical: 612.0\n"
     ]
    }
   ],
   "source": [
    "for genre in genres_table:\n",
    "    total = 0 # number of user ratings in genre\n",
    "    len_genre = 0 # number of apps in each genre\n",
    "    for app in ios_apps:\n",
    "        genre_app = app[-5]\n",
    "        if genre_app == genre:\n",
    "            no_of_ratings = float(app[5])\n",
    "            total += no_of_ratings\n",
    "            len_genre += 1\n",
    "    avg_no_ratings = total/len_genre\n",
    "    print(genre + \":\", avg_no_ratings)"
   ]
  },
  {
   "cell_type": "markdown",
   "id": "1ebf6264",
   "metadata": {},
   "source": [
    "This would indicate that the most popular app genre is `Navigation`, but we can see that this average is skewed by a few popular apps. The same is true for other categories like `Social Networking`."
   ]
  },
  {
   "cell_type": "code",
   "execution_count": 30,
   "id": "8e9d4906",
   "metadata": {},
   "outputs": [
    {
     "name": "stdout",
     "output_type": "stream",
     "text": [
      "Waze - GPS Navigation, Maps & Real-time Traffic: 345046\n",
      "Google Maps - Navigation & Transit: 154911\n",
      "Geocaching®: 12811\n",
      "CoPilot GPS – Car Navigation & Offline Maps: 3582\n",
      "ImmobilienScout24: Real Estate Search in Germany: 187\n",
      "Railway Route Search: 5\n"
     ]
    }
   ],
   "source": [
    "for app in ios_apps:\n",
    "    if app[-5] == \"Navigation\":\n",
    "        print(app[1] + \":\", app[5])"
   ]
  },
  {
   "cell_type": "markdown",
   "id": "be2702b4",
   "metadata": {},
   "source": [
    "## Most Popular Apps by Genre on the Google Play Store"
   ]
  },
  {
   "cell_type": "markdown",
   "id": "0350c9b4",
   "metadata": {},
   "source": [
    "The `Installs` column seems like a useful column to quantify app popularity. Upon further inspection we notice that most of the values are imprecise, often stating an open-ended range like `100+` instead of an exact value:"
   ]
  },
  {
   "cell_type": "code",
   "execution_count": 31,
   "id": "7ed6d605",
   "metadata": {},
   "outputs": [
    {
     "name": "stdout",
     "output_type": "stream",
     "text": [
      "1,000,000+: 15.726534296028879\n",
      "100,000+: 11.552346570397113\n",
      "10,000,000+: 10.548285198555957\n",
      "10,000+: 10.198555956678701\n",
      "1,000+: 8.393501805054152\n",
      "100+: 6.915613718411552\n",
      "5,000,000+: 6.825361010830325\n",
      "500,000+: 5.561823104693141\n",
      "50,000+: 4.7721119133574\n",
      "5,000+: 4.512635379061372\n",
      "10+: 3.5424187725631766\n",
      "500+: 3.2490974729241873\n",
      "50,000,000+: 2.3014440433213\n",
      "100,000,000+: 2.1322202166064983\n",
      "50+: 1.917870036101083\n",
      "5+: 0.78971119133574\n",
      "1+: 0.5076714801444043\n",
      "500,000,000+: 0.2707581227436823\n",
      "1,000,000,000+: 0.22563176895306858\n",
      "0+: 0.04512635379061372\n",
      "0: 0.01128158844765343\n"
     ]
    }
   ],
   "source": [
    "display_table(android_apps, 5)"
   ]
  },
  {
   "cell_type": "markdown",
   "id": "babd11db",
   "metadata": {},
   "source": [
    "However, we don't need precise data, we just want to get an idea of which genre of apps attracts the most users. So for our purposes we will consider an app with `100,000+` installs to have `100,000` installs, etc. To analyse the numbers we will need them as floats, without the `+` and `,` symbols. We'll use the `str.replace(old,new)` method to do this. To remove characters, we simply replace them with an empty string `\"\"`."
   ]
  },
  {
   "cell_type": "code",
   "execution_count": 32,
   "id": "aa736961",
   "metadata": {},
   "outputs": [
    {
     "data": {
      "text/plain": [
       "'100,000+'"
      ]
     },
     "execution_count": 32,
     "metadata": {},
     "output_type": "execute_result"
    }
   ],
   "source": [
    "string = \"100,000+\"\n",
    "string.replace(\"+\",\"\")\n",
    "string"
   ]
  },
  {
   "cell_type": "markdown",
   "id": "e11ed4f4",
   "metadata": {},
   "source": [
    "This method does not replace the original string, so we need to reassign the variable:"
   ]
  },
  {
   "cell_type": "code",
   "execution_count": 33,
   "id": "c3f9441a",
   "metadata": {},
   "outputs": [
    {
     "data": {
      "text/plain": [
       "'100,000'"
      ]
     },
     "execution_count": 33,
     "metadata": {},
     "output_type": "execute_result"
    }
   ],
   "source": [
    "string = string.replace(\"+\",\"\")\n",
    "string"
   ]
  },
  {
   "cell_type": "markdown",
   "id": "732abc81",
   "metadata": {},
   "source": [
    "For the Google Play dataset example, we'll use another nested for loop."
   ]
  },
  {
   "cell_type": "code",
   "execution_count": 34,
   "id": "ad49abfb",
   "metadata": {},
   "outputs": [
    {
     "data": {
      "text/plain": [
       "[(38456119.167247385, 'COMMUNICATION'),\n",
       " (24727872.452830188, 'VIDEO_PLAYERS'),\n",
       " (23253652.127118643, 'SOCIAL'),\n",
       " (17840110.40229885, 'PHOTOGRAPHY'),\n",
       " (16787331.344927534, 'PRODUCTIVITY'),\n",
       " (15588015.603248259, 'GAME'),\n",
       " (13984077.710144928, 'TRAVEL_AND_LOCAL'),\n",
       " (11640705.88235294, 'ENTERTAINMENT'),\n",
       " (10801391.298666667, 'TOOLS'),\n",
       " (9549178.467741935, 'NEWS_AND_MAGAZINES'),\n",
       " (8767811.894736841, 'BOOKS_AND_REFERENCE'),\n",
       " (7036877.311557789, 'SHOPPING'),\n",
       " (5201482.6122448975, 'PERSONALIZATION'),\n",
       " (5074486.197183099, 'WEATHER'),\n",
       " (4188821.9853479853, 'HEALTH_AND_FITNESS'),\n",
       " (4056941.7741935486, 'MAPS_AND_NAVIGATION'),\n",
       " (3695641.8198090694, 'FAMILY'),\n",
       " (3638640.1428571427, 'SPORTS'),\n",
       " (1986335.0877192982, 'ART_AND_DESIGN'),\n",
       " (1924897.7363636363, 'FOOD_AND_DRINK'),\n",
       " (1833495.145631068, 'EDUCATION'),\n",
       " (1712290.1474201474, 'BUSINESS'),\n",
       " (1437816.2687861272, 'LIFESTYLE'),\n",
       " (1387692.475609756, 'FINANCE'),\n",
       " (1331540.5616438356, 'HOUSE_AND_HOME'),\n",
       " (854028.8303030303, 'DATING'),\n",
       " (817657.2727272727, 'COMICS'),\n",
       " (647317.8170731707, 'AUTO_AND_VEHICLES'),\n",
       " (638503.734939759, 'LIBRARIES_AND_DEMO'),\n",
       " (542603.6206896552, 'PARENTING'),\n",
       " (513151.88679245283, 'BEAUTY'),\n",
       " (253542.22222222222, 'EVENTS'),\n",
       " (120550.61980830671, 'MEDICAL')]"
      ]
     },
     "execution_count": 34,
     "metadata": {},
     "output_type": "execute_result"
    }
   ],
   "source": [
    "android_categories = freq_table(android_apps, 1) # freq table for category column\n",
    "category_list = []\n",
    "for category in android_categories:\n",
    "    total = 0 # number of installs\n",
    "    len_category = 0 \n",
    "    for app in android_apps:\n",
    "        app_category = app[1]\n",
    "        if app_category == category:\n",
    "            n_installs = app[5]\n",
    "            n_installs = n_installs.replace(\"+\", \"\")\n",
    "            n_installs = n_installs.replace(\",\", \"\")\n",
    "            n_installs = float(n_installs)\n",
    "            total += n_installs\n",
    "            len_category += 1\n",
    "    avg_installs = total/len_category\n",
    "    #print(category + \":\", avg_installs)\n",
    "    # Let's order the list by number of installs\n",
    "    tup = (avg_installs, category)\n",
    "    category_list.append(tup)\n",
    "    sorted_list = sorted(category_list, reverse = True)\n",
    "sorted_list"
   ]
  },
  {
   "cell_type": "markdown",
   "id": "8d072675",
   "metadata": {},
   "source": [
    "`COMMUNICATION` has the most number of app installs, followed by `VIDEO_PLAYERS` and `SOCIAL`. This might lead us to think these correspond with the best app profile for developers to target. However, we must note that these categories are dominated by a few giant companies which may be difficult to compete with. This skews the number of installs, with many of these giants having over 100M installs each."
   ]
  },
  {
   "cell_type": "code",
   "execution_count": 35,
   "id": "d7fc4134",
   "metadata": {},
   "outputs": [
    {
     "name": "stdout",
     "output_type": "stream",
     "text": [
      "Category: BOOKS_AND_REFERENCE \n",
      "App name: Google Play Books \n",
      "Installs: 1000000000.0 \n",
      "\n",
      "Category: COMMUNICATION \n",
      "App name: WhatsApp Messenger \n",
      "Installs: 1000000000.0 \n",
      "\n",
      "Category: COMMUNICATION \n",
      "App name: Google Duo - High Quality Video Calls \n",
      "Installs: 500000000.0 \n",
      "\n",
      "Category: COMMUNICATION \n",
      "App name: Messenger – Text and Video Chat for Free \n",
      "Installs: 1000000000.0 \n",
      "\n",
      "Category: COMMUNICATION \n",
      "App name: imo free video calls and chat \n",
      "Installs: 500000000.0 \n",
      "\n",
      "Category: COMMUNICATION \n",
      "App name: Skype - free IM & video calls \n",
      "Installs: 1000000000.0 \n",
      "\n",
      "Category: COMMUNICATION \n",
      "App name: LINE: Free Calls & Messages \n",
      "Installs: 500000000.0 \n",
      "\n",
      "Category: COMMUNICATION \n",
      "App name: Google Chrome: Fast & Secure \n",
      "Installs: 1000000000.0 \n",
      "\n",
      "Category: COMMUNICATION \n",
      "App name: UC Browser - Fast Download Private & Secure \n",
      "Installs: 500000000.0 \n",
      "\n",
      "Category: COMMUNICATION \n",
      "App name: Gmail \n",
      "Installs: 1000000000.0 \n",
      "\n",
      "Category: COMMUNICATION \n",
      "App name: Hangouts \n",
      "Installs: 1000000000.0 \n",
      "\n",
      "Category: GAME \n",
      "App name: Candy Crush Saga \n",
      "Installs: 500000000.0 \n",
      "\n",
      "Category: GAME \n",
      "App name: Subway Surfers \n",
      "Installs: 1000000000.0 \n",
      "\n",
      "Category: GAME \n",
      "App name: Pou \n",
      "Installs: 500000000.0 \n",
      "\n",
      "Category: GAME \n",
      "App name: My Talking Tom \n",
      "Installs: 500000000.0 \n",
      "\n",
      "Category: GAME \n",
      "App name: Temple Run 2 \n",
      "Installs: 500000000.0 \n",
      "\n",
      "Category: SOCIAL \n",
      "App name: Facebook \n",
      "Installs: 1000000000.0 \n",
      "\n",
      "Category: SOCIAL \n",
      "App name: Facebook Lite \n",
      "Installs: 500000000.0 \n",
      "\n",
      "Category: SOCIAL \n",
      "App name: Google+ \n",
      "Installs: 1000000000.0 \n",
      "\n",
      "Category: SOCIAL \n",
      "App name: Instagram \n",
      "Installs: 1000000000.0 \n",
      "\n",
      "Category: SOCIAL \n",
      "App name: Snapchat \n",
      "Installs: 500000000.0 \n",
      "\n",
      "Category: PHOTOGRAPHY \n",
      "App name: Google Photos \n",
      "Installs: 1000000000.0 \n",
      "\n",
      "Category: TRAVEL_AND_LOCAL \n",
      "App name: Maps - Navigate & Explore \n",
      "Installs: 1000000000.0 \n",
      "\n",
      "Category: TRAVEL_AND_LOCAL \n",
      "App name: Google Street View \n",
      "Installs: 1000000000.0 \n",
      "\n",
      "Category: TOOLS \n",
      "App name: Google \n",
      "Installs: 1000000000.0 \n",
      "\n",
      "Category: TOOLS \n",
      "App name: Google Translate \n",
      "Installs: 500000000.0 \n",
      "\n",
      "Category: TOOLS \n",
      "App name: SHAREit - Transfer & Share \n",
      "Installs: 500000000.0 \n",
      "\n",
      "Category: TOOLS \n",
      "App name: Gboard - the Google Keyboard \n",
      "Installs: 500000000.0 \n",
      "\n",
      "Category: PRODUCTIVITY \n",
      "App name: Microsoft Word \n",
      "Installs: 500000000.0 \n",
      "\n",
      "Category: PRODUCTIVITY \n",
      "App name: Dropbox \n",
      "Installs: 500000000.0 \n",
      "\n",
      "Category: PRODUCTIVITY \n",
      "App name: Google Drive \n",
      "Installs: 1000000000.0 \n",
      "\n",
      "Category: PRODUCTIVITY \n",
      "App name: Google Calendar \n",
      "Installs: 500000000.0 \n",
      "\n",
      "Category: PRODUCTIVITY \n",
      "App name: Cloud Print \n",
      "Installs: 500000000.0 \n",
      "\n",
      "Category: VIDEO_PLAYERS \n",
      "App name: YouTube \n",
      "Installs: 1000000000.0 \n",
      "\n",
      "Category: VIDEO_PLAYERS \n",
      "App name: Google Play Movies & TV \n",
      "Installs: 1000000000.0 \n",
      "\n",
      "Category: VIDEO_PLAYERS \n",
      "App name: MX Player \n",
      "Installs: 500000000.0 \n",
      "\n",
      "Category: NEWS_AND_MAGAZINES \n",
      "App name: Twitter \n",
      "Installs: 500000000.0 \n",
      "\n",
      "Category: NEWS_AND_MAGAZINES \n",
      "App name: Flipboard: News For Our Time \n",
      "Installs: 500000000.0 \n",
      "\n",
      "Category: TOOLS \n",
      "App name: Clean Master- Space Cleaner & Antivirus \n",
      "Installs: 500000000.0 \n",
      "\n",
      "Category: COMMUNICATION \n",
      "App name: Viber Messenger \n",
      "Installs: 500000000.0 \n",
      "\n",
      "Category: HEALTH_AND_FITNESS \n",
      "App name: Samsung Health \n",
      "Installs: 500000000.0 \n",
      "\n",
      "Category: FAMILY \n",
      "App name: Google Play Games \n",
      "Installs: 1000000000.0 \n",
      "\n",
      "Category: TOOLS \n",
      "App name: Security Master - Antivirus, VPN, AppLock, Booster \n",
      "Installs: 500000000.0 \n",
      "\n",
      "Category: NEWS_AND_MAGAZINES \n",
      "App name: Google News \n",
      "Installs: 1000000000.0 \n",
      "\n"
     ]
    }
   ],
   "source": [
    "for app in android_apps:\n",
    "    installs = app[5]\n",
    "    installs = installs.replace(\"+\",\"\")\n",
    "    installs = installs.replace(\",\",\"\")\n",
    "    installs = float(installs)\n",
    "    if installs > 100000000:\n",
    "        print(\"Category:\",app[1],\"\\nApp name:\", app[0],\"\\nInstalls:\", installs,\"\\n\")"
   ]
  },
  {
   "cell_type": "markdown",
   "id": "9d2b246f",
   "metadata": {},
   "source": [
    "Without these large values, the average number of installs for each category are much smaller. For the `COMMUNICATION` column:"
   ]
  },
  {
   "cell_type": "code",
   "execution_count": 36,
   "id": "00daa56d",
   "metadata": {},
   "outputs": [
    {
     "data": {
      "text/plain": [
       "3603485.3884615386"
      ]
     },
     "execution_count": 36,
     "metadata": {},
     "output_type": "execute_result"
    }
   ],
   "source": [
    "under_100_m = []\n",
    "\n",
    "for app in android_apps:\n",
    "    n_installs = app[5]\n",
    "    n_installs = n_installs.replace(',', '')\n",
    "    n_installs = n_installs.replace('+', '')\n",
    "    if (app[1] == 'COMMUNICATION') and (float(n_installs) < 100000000):\n",
    "        under_100_m.append(float(n_installs))\n",
    "        \n",
    "sum(under_100_m) / len(under_100_m)"
   ]
  },
  {
   "cell_type": "markdown",
   "id": "a47635f7",
   "metadata": {},
   "source": [
    "This motivates us to look at apps with a more modest number of installs in the categories that are less dominated by large companies:"
   ]
  },
  {
   "cell_type": "code",
   "execution_count": 37,
   "id": "ff4c0c6c",
   "metadata": {},
   "outputs": [
    {
     "name": "stdout",
     "output_type": "stream",
     "text": [
      "Name: Book store \n",
      "Installs: 1,000,000+ \n",
      "\n",
      "Name: English Grammar Complete Handbook \n",
      "Installs: 500,000+ \n",
      "\n",
      "Name: Free Books - Spirit Fanfiction and Stories \n",
      "Installs: 1,000,000+ \n",
      "\n",
      "Name: Offline: English to Tagalog Dictionary \n",
      "Installs: 500,000+ \n",
      "\n",
      "Name: FamilySearch Tree \n",
      "Installs: 1,000,000+ \n",
      "\n",
      "Name: Cloud of Books \n",
      "Installs: 1,000,000+ \n",
      "\n",
      "Name: Recipes of Prophetic Medicine for free \n",
      "Installs: 500,000+ \n",
      "\n",
      "Name: ReadEra – free ebook reader \n",
      "Installs: 1,000,000+ \n",
      "\n",
      "Name: English to Urdu Dictionary \n",
      "Installs: 500,000+ \n",
      "\n",
      "Name: eBoox: book reader fb2 epub zip \n",
      "Installs: 1,000,000+ \n",
      "\n",
      "Name: English Persian Dictionary \n",
      "Installs: 500,000+ \n",
      "\n",
      "Name: Flybook \n",
      "Installs: 500,000+ \n",
      "\n",
      "Name: All Maths Formulas \n",
      "Installs: 1,000,000+ \n",
      "\n",
      "Name: Only 30 days in English, the guideline is guaranteed \n",
      "Installs: 500,000+ \n",
      "\n",
      "Name: English-Myanmar Dictionary \n",
      "Installs: 1,000,000+ \n",
      "\n",
      "Name: Golden Dictionary (EN-AR) \n",
      "Installs: 1,000,000+ \n",
      "\n",
      "Name: All Language Translator Free \n",
      "Installs: 1,000,000+ \n",
      "\n",
      "Name: Azpen eReader \n",
      "Installs: 500,000+ \n",
      "\n",
      "Name: Google I/O 2018 \n",
      "Installs: 500,000+ \n",
      "\n",
      "Name: Al Quran (Tafsir & by Word) \n",
      "Installs: 500,000+ \n",
      "\n",
      "Name: Al Quran Al karim \n",
      "Installs: 1,000,000+ \n",
      "\n",
      "Name: Al-Quran 30 Juz free copies \n",
      "Installs: 500,000+ \n",
      "\n",
      "Name: Koran Read &MP3 30 Juz Offline \n",
      "Installs: 1,000,000+ \n",
      "\n",
      "Name: Hafizi Quran 15 lines per page \n",
      "Installs: 1,000,000+ \n",
      "\n",
      "Name: Satellite AR \n",
      "Installs: 1,000,000+ \n",
      "\n",
      "Name: Oxford A-Z of English Usage \n",
      "Installs: 1,000,000+ \n",
      "\n",
      "Name: Youboox - Livres, BD et magazines \n",
      "Installs: 500,000+ \n",
      "\n",
      "Name: NOOK Audiobooks \n",
      "Installs: 500,000+ \n",
      "\n",
      "Name: NOOK App for NOOK Devices \n",
      "Installs: 500,000+ \n",
      "\n",
      "Name: Brilliant Quotes: Life, Love, Family & Motivation \n",
      "Installs: 1,000,000+ \n",
      "\n",
      "Name: Stats Royale for Clash Royale \n",
      "Installs: 1,000,000+ \n",
      "\n",
      "Name: wikiHow: how to do anything \n",
      "Installs: 1,000,000+ \n",
      "\n",
      "Name: EGW Writings \n",
      "Installs: 1,000,000+ \n",
      "\n",
      "Name: My Little Pony AR Guide \n",
      "Installs: 1,000,000+ \n",
      "\n",
      "Name: SDA Sabbath School Quarterly \n",
      "Installs: 500,000+ \n",
      "\n",
      "Name: Golden Dictionary (FR-AR) \n",
      "Installs: 500,000+ \n",
      "\n"
     ]
    }
   ],
   "source": [
    "for app in android_apps:\n",
    "    name = app[0]\n",
    "    installs = app[5]\n",
    "    genre = app[1]\n",
    "    if (installs == \"500,000+\" or installs == \"1,000,000+\") and genre == \"BOOKS_AND_REFERENCE\":\n",
    "        print(\"Name:\",name,\"\\nInstalls:\", installs,\"\\n\")"
   ]
  },
  {
   "cell_type": "code",
   "execution_count": 38,
   "id": "d962a21b",
   "metadata": {},
   "outputs": [
    {
     "name": "stdout",
     "output_type": "stream",
     "text": [
      "Name: Power Booster - Junk Cleaner & CPU Cooler & Boost \n",
      "Installs: 1,000,000+ \n",
      "\n",
      "Name: MyMTN \n",
      "Installs: 1,000,000+ \n",
      "\n",
      "Name: Hacker's Keyboard \n",
      "Installs: 1,000,000+ \n",
      "\n",
      "Name: Security & Privacy \n",
      "Installs: 1,000,000+ \n",
      "\n",
      "Name: 7 Weeks - Habit & Goal Tracker \n",
      "Installs: 500,000+ \n",
      "\n",
      "Name: Loop - Habit Tracker \n",
      "Installs: 1,000,000+ \n",
      "\n",
      "Name: TickTick: To Do List with Reminder, Day Planner \n",
      "Installs: 1,000,000+ \n",
      "\n",
      "Name: Pushbullet - SMS on PC \n",
      "Installs: 1,000,000+ \n",
      "\n",
      "Name: Planner Pro-Personal Organizer \n",
      "Installs: 1,000,000+ \n",
      "\n",
      "Name: Cozi Family Organizer \n",
      "Installs: 1,000,000+ \n",
      "\n",
      "Name: IFTTT \n",
      "Installs: 1,000,000+ \n",
      "\n",
      "Name: Dashlane Free Password Manager \n",
      "Installs: 1,000,000+ \n",
      "\n",
      "Name: Solid Explorer Classic \n",
      "Installs: 1,000,000+ \n",
      "\n",
      "Name: Solid Explorer File Manager \n",
      "Installs: 1,000,000+ \n",
      "\n",
      "Name: Smart File Manager \n",
      "Installs: 1,000,000+ \n",
      "\n",
      "Name: Simple Notepad \n",
      "Installs: 1,000,000+ \n",
      "\n",
      "Name: Sticky Note + : Sync Notes \n",
      "Installs: 1,000,000+ \n",
      "\n",
      "Name: Squid - Take Notes & Markup PDFs \n",
      "Installs: 1,000,000+ \n",
      "\n",
      "Name: JotterPad - Writer, Screenplay, Novel \n",
      "Installs: 1,000,000+ \n",
      "\n",
      "Name: Planning Center Services \n",
      "Installs: 500,000+ \n",
      "\n",
      "Name: Calendar+ Schedule Planner App \n",
      "Installs: 1,000,000+ \n",
      "\n",
      "Name: Today Calendar 2017 \n",
      "Installs: 1,000,000+ \n",
      "\n",
      "Name: To-Do Calendar Planner \n",
      "Installs: 1,000,000+ \n",
      "\n",
      "Name: New Calendar \n",
      "Installs: 1,000,000+ \n",
      "\n",
      "Name: Time Recording - Timesheet App \n",
      "Installs: 1,000,000+ \n",
      "\n",
      "Name: Amazon Drive \n",
      "Installs: 1,000,000+ \n",
      "\n",
      "Name: SugarSync \n",
      "Installs: 1,000,000+ \n",
      "\n",
      "Name: pCloud: Free Cloud Storage \n",
      "Installs: 1,000,000+ \n",
      "\n",
      "Name: EX File Explorer File Manager \n",
      "Installs: 1,000,000+ \n",
      "\n",
      "Name: Emoji Android L Keyboard \n",
      "Installs: 1,000,000+ \n",
      "\n",
      "Name: Multiling O Keyboard + emoji \n",
      "Installs: 1,000,000+ \n",
      "\n",
      "Name: Official QR Code® Reader \"Q\" \n",
      "Installs: 500,000+ \n",
      "\n",
      "Name: Q Link Wireless Zone \n",
      "Installs: 500,000+ \n",
      "\n",
      "Name: S’more - Earn Cash Rewards \n",
      "Installs: 1,000,000+ \n",
      "\n",
      "Name: T-Mobile Content Transfer \n",
      "Installs: 500,000+ \n",
      "\n",
      "Name: Můj T-Mobile Business \n",
      "Installs: 1,000,000+ \n",
      "\n",
      "Name: Ad Detect Plugin - Handy Tool \n",
      "Installs: 500,000+ \n",
      "\n",
      "Name: Adblock Fast \n",
      "Installs: 1,000,000+ \n",
      "\n",
      "Name: Google AdSense \n",
      "Installs: 1,000,000+ \n",
      "\n",
      "Name: Extreme- Personal Voice Assistant \n",
      "Installs: 1,000,000+ \n",
      "\n",
      "Name: Lyra Virtual Assistant \n",
      "Installs: 1,000,000+ \n",
      "\n",
      "Name: AL Voice Recorder \n",
      "Installs: 1,000,000+ \n",
      "\n",
      "Name: A-Z App Store \n",
      "Installs: 500,000+ \n",
      "\n",
      "Name: ALL-IN-ONE PACKAGE TRACKING \n",
      "Installs: 1,000,000+ \n",
      "\n",
      "Name: Chrome Canary (Unstable) \n",
      "Installs: 1,000,000+ \n",
      "\n",
      "Name: Ultimate Calculator for CR \n",
      "Installs: 500,000+ \n",
      "\n",
      "Name: Ultimate Chest Tracker \n",
      "Installs: 1,000,000+ \n",
      "\n",
      "Name: Resume Free \n",
      "Installs: 1,000,000+ \n",
      "\n",
      "Name: CY Security Antivirus Cleaner \n",
      "Installs: 1,000,000+ \n",
      "\n",
      "Name: Phone Clean Best Speed Booster \n",
      "Installs: 1,000,000+ \n",
      "\n",
      "Name: e-Boks.dk \n",
      "Installs: 1,000,000+ \n",
      "\n",
      "Name: Mahalaxmi Dindarshika 2018 \n",
      "Installs: 1,000,000+ \n",
      "\n",
      "Name: Microsoft To-Do: List, Task & Reminder \n",
      "Installs: 1,000,000+ \n",
      "\n",
      "Name: To Do Reminder with Alarm \n",
      "Installs: 1,000,000+ \n",
      "\n",
      "Name: My Effectiveness: To do, Tasks \n",
      "Installs: 500,000+ \n",
      "\n",
      "Name: Do it (Tomorrow) \n",
      "Installs: 1,000,000+ \n",
      "\n",
      "Name: To-Do List Widget \n",
      "Installs: 1,000,000+ \n",
      "\n",
      "Name: NoteToDo. Notes. To do list \n",
      "Installs: 1,000,000+ \n",
      "\n",
      "Name: Memory Helper - To do list, Notepad, Notes, Memo \n",
      "Installs: 500,000+ \n",
      "\n",
      "Name: Time Planner - Schedule, To-Do List, Time Tracker \n",
      "Installs: 500,000+ \n",
      "\n",
      "Name: Cal - Google Calendar + Widget \n",
      "Installs: 1,000,000+ \n",
      "\n",
      "Name: Adobe Fill & Sign: Easy PDF Form Filler \n",
      "Installs: 1,000,000+ \n",
      "\n",
      "Name: DS file \n",
      "Installs: 1,000,000+ \n",
      "\n",
      "Name: DS cam \n",
      "Installs: 500,000+ \n",
      "\n",
      "Name: Epson iProjection \n",
      "Installs: 1,000,000+ \n",
      "\n",
      "Name: ES Material Theme for Pro \n",
      "Installs: 1,000,000+ \n",
      "\n",
      "Name: ES Holo Theme for Pro \n",
      "Installs: 500,000+ \n",
      "\n",
      "Name: Chelsea FC Official Keyboard \n",
      "Installs: 1,000,000+ \n",
      "\n",
      "Name: Avast Wi-Fi Finder \n",
      "Installs: 1,000,000+ \n",
      "\n"
     ]
    }
   ],
   "source": [
    "for app in android_apps:\n",
    "    name = app[0]\n",
    "    installs = app[5]\n",
    "    genre = app[1]\n",
    "    if (installs == \"500,000+\" or installs == \"1,000,000+\") and (genre == \"PRODUCTIVITY\"):\n",
    "        print(\"Name:\",name,\"\\nInstalls:\", installs,\"\\n\")"
   ]
  },
  {
   "cell_type": "markdown",
   "id": "6404f745",
   "metadata": {},
   "source": [
    "## Conclusions"
   ]
  },
  {
   "cell_type": "markdown",
   "id": "19f08ce4",
   "metadata": {},
   "source": [
    "Examining the mid-range of the `BOOKS_AND_REFERENCE` genre, we see that Quran apps and Dictionaries appear quite often. In the `PRODUCTIVITY` genre, we see a lot of calendar, to-do list and reminder apps. From this we conclude that a profitable yet realistic app profile may include elements from a popular book, as well as combining aspects of organisation/productivity. From what we saw earlier, gaming and entertainment still dominate the most popular categories, even excluding the large companies. So we surmise that a productivity/book app with a gamified/entertainment aspect may be the safest option."
   ]
  }
 ],
 "metadata": {
  "kernelspec": {
   "display_name": "Python 3",
   "language": "python",
   "name": "python3"
  },
  "language_info": {
   "codemirror_mode": {
    "name": "ipython",
    "version": 3
   },
   "file_extension": ".py",
   "mimetype": "text/x-python",
   "name": "python",
   "nbconvert_exporter": "python",
   "pygments_lexer": "ipython3",
   "version": "3.8.5"
  }
 },
 "nbformat": 4,
 "nbformat_minor": 5
}
