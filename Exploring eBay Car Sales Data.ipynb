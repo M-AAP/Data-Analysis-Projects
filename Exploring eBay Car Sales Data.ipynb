{
 "cells": [
  {
   "cell_type": "markdown",
   "id": "69812087",
   "metadata": {},
   "source": [
    "# Exploring eBay Car Sales Data"
   ]
  },
  {
   "cell_type": "markdown",
   "id": "2a3163af",
   "metadata": {},
   "source": [
    "## Introduction"
   ]
  },
  {
   "cell_type": "markdown",
   "id": "b9fa9b6a",
   "metadata": {},
   "source": [
    "In this project, we'll be working with a dataset of used cars from eBay Kleinanzeigen, a classifieds section of the German eBay website. The aim of this project is to clean and analyse the used car listings using the NumPy and pandas libraries."
   ]
  },
  {
   "cell_type": "code",
   "execution_count": null,
   "id": "20f69f82",
   "metadata": {},
   "outputs": [],
   "source": [
    "import pandas as pd\n",
    "import numpy as np\n",
    "\n",
    "autos = pd.read_csv(\"autos.csv\")"
   ]
  },
  {
   "cell_type": "code",
   "execution_count": null,
   "id": "c419d2ea",
   "metadata": {
    "scrolled": true
   },
   "outputs": [],
   "source": [
    "autos"
   ]
  },
  {
   "cell_type": "code",
   "execution_count": null,
   "id": "99074152",
   "metadata": {},
   "outputs": [],
   "source": [
    "autos.info()"
   ]
  },
  {
   "cell_type": "code",
   "execution_count": null,
   "id": "229aa55d",
   "metadata": {},
   "outputs": [],
   "source": [
    "autos.head()"
   ]
  },
  {
   "cell_type": "markdown",
   "id": "8aa22a4a",
   "metadata": {},
   "source": [
    "Our dataset has 50,000 rows and 20 columns. Most columns are stored as strings, with some stored as integers."
   ]
  },
  {
   "cell_type": "markdown",
   "id": "4e2782a8",
   "metadata": {},
   "source": [
    "## Cleaning Column Names"
   ]
  },
  {
   "cell_type": "markdown",
   "id": "cf4f705a",
   "metadata": {},
   "source": [
    "The column names use camel case instead of snake case, so we can't just replace spaces with underscores. Let's convert the column names to snake case and make some of them more descriptive."
   ]
  },
  {
   "cell_type": "code",
   "execution_count": null,
   "id": "5606887d",
   "metadata": {},
   "outputs": [],
   "source": [
    "autos.columns"
   ]
  },
  {
   "cell_type": "code",
   "execution_count": null,
   "id": "e7e4225b",
   "metadata": {},
   "outputs": [],
   "source": [
    "autos.columns = ['date_crawled', 'name', 'seller', 'offer_type', 'price', 'ab_test',\n",
    "       'vehicle_type', 'registration_year', 'gearbox', 'power_ps', 'model',\n",
    "       'odometer', 'registration_month', 'fuel_type', 'brand',\n",
    "       'unrepaired_damage', 'ad_created', 'num_pics', 'postal_code',\n",
    "       'last_seen']"
   ]
  },
  {
   "cell_type": "code",
   "execution_count": null,
   "id": "655459d5",
   "metadata": {},
   "outputs": [],
   "source": [
    "autos.head(1)"
   ]
  },
  {
   "cell_type": "markdown",
   "id": "f18b7e7b",
   "metadata": {},
   "source": [
    "## Initial Exploration and Cleaning"
   ]
  },
  {
   "cell_type": "markdown",
   "id": "aac2c1a5",
   "metadata": {},
   "source": [
    "Initially we will look for columns which have most values the same, as we cannot get any useful information from these. We will also look for numerical columns which are stored as text which can be cleaned and converted to a numeric type."
   ]
  },
  {
   "cell_type": "code",
   "execution_count": null,
   "id": "32f5867a",
   "metadata": {},
   "outputs": [],
   "source": [
    "autos.describe(include=\"all\")"
   ]
  },
  {
   "cell_type": "markdown",
   "id": "77a69bf5",
   "metadata": {},
   "source": [
    "The `seller` and `offer_type` columns have almost all values the same (49,999 out of 50,000 are the same). \n",
    "The `num_pics` column has the same mean, min, max and quartiles, indicating all values may be the same. Let's investigate whether this is the case:"
   ]
  },
  {
   "cell_type": "code",
   "execution_count": null,
   "id": "b09db46c",
   "metadata": {},
   "outputs": [],
   "source": [
    "autos[\"num_pics\"].value_counts()"
   ]
  },
  {
   "cell_type": "markdown",
   "id": "3c177970",
   "metadata": {},
   "source": [
    "Therefore we will remove the `seller`, `offer_type` and `num_pics` columns:"
   ]
  },
  {
   "cell_type": "code",
   "execution_count": null,
   "id": "8320f250",
   "metadata": {},
   "outputs": [],
   "source": [
    "autos = autos.drop(['seller', 'offer_type', 'num_pics'], axis=1)\n",
    "autos.head(1)"
   ]
  },
  {
   "cell_type": "markdown",
   "id": "ad0ef98a",
   "metadata": {},
   "source": [
    "We also notice that the `price` and `odometer` columns contain numerical data stored as text, so let's fix this:"
   ]
  },
  {
   "cell_type": "code",
   "execution_count": null,
   "id": "3a676e99",
   "metadata": {},
   "outputs": [],
   "source": [
    "autos[\"price\"] = autos[\"price\"].str.replace(\"$\",\"\").str.replace(\",\",\"\").astype(int)\n",
    "autos[\"odometer\"] = autos[\"odometer\"].str.replace(\"km\",\"\").str.replace(\",\",\"\").astype(int)\n",
    "autos.rename({\"odometer\":\"odometer_km\"},axis=1,inplace=True)"
   ]
  },
  {
   "cell_type": "code",
   "execution_count": null,
   "id": "069924d6",
   "metadata": {},
   "outputs": [],
   "source": [
    "autos.head()"
   ]
  },
  {
   "cell_type": "markdown",
   "id": "eebd061f",
   "metadata": {},
   "source": [
    "## Exploring the Odometer and Price Columns"
   ]
  },
  {
   "cell_type": "markdown",
   "id": "43187332",
   "metadata": {},
   "source": [
    "Let's now explore the `odometer_km` and `price` columns, looking for data that doesn't look quite right, including outliers."
   ]
  },
  {
   "cell_type": "code",
   "execution_count": null,
   "id": "cbc457b9",
   "metadata": {},
   "outputs": [],
   "source": [
    "autos[\"odometer_km\"].unique().shape"
   ]
  },
  {
   "cell_type": "code",
   "execution_count": null,
   "id": "a7006d51",
   "metadata": {},
   "outputs": [],
   "source": [
    "autos[\"odometer_km\"].describe()"
   ]
  },
  {
   "cell_type": "code",
   "execution_count": null,
   "id": "acec1303",
   "metadata": {},
   "outputs": [],
   "source": [
    "autos[\"odometer_km\"].value_counts()"
   ]
  },
  {
   "cell_type": "markdown",
   "id": "2405a205",
   "metadata": {},
   "source": [
    "For the `odometer_km` column we observe that there are only discrete values, indicating that users may have had to choose from a predetermined number of values. The values in this column are left-skewed: there are much more high mileage vehicles."
   ]
  },
  {
   "cell_type": "code",
   "execution_count": null,
   "id": "2201cf29",
   "metadata": {},
   "outputs": [],
   "source": [
    "autos[\"price\"].unique().shape"
   ]
  },
  {
   "cell_type": "code",
   "execution_count": null,
   "id": "7153a8b8",
   "metadata": {},
   "outputs": [],
   "source": [
    "autos[\"price\"].describe()"
   ]
  },
  {
   "cell_type": "code",
   "execution_count": null,
   "id": "0097bdf3",
   "metadata": {},
   "outputs": [],
   "source": [
    "autos[\"price\"].value_counts().head(10)"
   ]
  },
  {
   "cell_type": "markdown",
   "id": "ad031dca",
   "metadata": {},
   "source": [
    "The prices are also rounded here, but there are much more values so this indicates that users may have rounded the values at their own discretion. There are 1,421 cars with a price of \\\\$0. The maximum price is \\\\$100,000,000 which seems like an outlier. Let's explore these high prices further:"
   ]
  },
  {
   "cell_type": "code",
   "execution_count": null,
   "id": "8695ad73",
   "metadata": {},
   "outputs": [],
   "source": [
    "autos[\"price\"].value_counts().sort_index(ascending=False).head(20)"
   ]
  },
  {
   "cell_type": "code",
   "execution_count": null,
   "id": "57582f6a",
   "metadata": {},
   "outputs": [],
   "source": [
    "autos[\"price\"].value_counts().sort_index(ascending=True).head(20)"
   ]
  },
  {
   "cell_type": "markdown",
   "id": "d2b6386d",
   "metadata": {},
   "source": [
    "It seems that prices steadily increase up to \\\\$350,000 but increase rapidly from then. So we will discard prices over \\\\$350,000. Since eBay is an auctioning site, it isn't necessarily unexpected to see extremely low prices, so we will keep these, except for \\\\$0."
   ]
  },
  {
   "cell_type": "code",
   "execution_count": null,
   "id": "a566f3f4",
   "metadata": {},
   "outputs": [],
   "source": [
    "autos = autos[autos[\"price\"].between(1,350001)]\n",
    "autos.describe()"
   ]
  },
  {
   "cell_type": "markdown",
   "id": "e9dda360",
   "metadata": {},
   "source": [
    "## Exploring the Date Columns"
   ]
  },
  {
   "cell_type": "markdown",
   "id": "b3197e8f",
   "metadata": {},
   "source": [
    "There are 5 date columns, some from the website itself, and some added by the crawler:"
   ]
  },
  {
   "cell_type": "markdown",
   "id": "b7266dfd",
   "metadata": {},
   "source": [
    "- `date_crawled`: added by the crawler\n",
    "- `last_seen`: added by the crawler\n",
    "- `ad_created`: from the website\n",
    "- `registration_month`: from the website\n",
    "- `registration_year`: from the website"
   ]
  },
  {
   "cell_type": "code",
   "execution_count": null,
   "id": "cb5e3bb7",
   "metadata": {},
   "outputs": [],
   "source": [
    "autos.info()"
   ]
  },
  {
   "cell_type": "markdown",
   "id": "495ce7d9",
   "metadata": {},
   "source": [
    "`registration_month` and `registration_year` are stored numerically, so can be easily processed. However, `date_crawled`, `ad_created` and `last_seen` are stored as strings so we need to do some manipulation first."
   ]
  },
  {
   "cell_type": "code",
   "execution_count": null,
   "id": "53a66890",
   "metadata": {},
   "outputs": [],
   "source": [
    "autos[['date_crawled','ad_created','last_seen']][0:5]"
   ]
  },
  {
   "cell_type": "markdown",
   "id": "5080291b",
   "metadata": {},
   "source": [
    "Let's calculate the distribution of the values in these columns, as percentages:"
   ]
  },
  {
   "cell_type": "code",
   "execution_count": null,
   "id": "8f36ab29",
   "metadata": {},
   "outputs": [],
   "source": [
    "autos['date_crawled'].str[:10].value_counts(normalize=True,dropna=False).sort_index(ascending=True)"
   ]
  },
  {
   "cell_type": "code",
   "execution_count": null,
   "id": "a8464bf1",
   "metadata": {},
   "outputs": [],
   "source": [
    "autos['date_crawled'].str[:10].value_counts(normalize=True,dropna=False).sort_values()"
   ]
  },
  {
   "cell_type": "markdown",
   "id": "35e10f1c",
   "metadata": {},
   "source": [
    "It seems that the data was crawled daily over the period 5th March 2016 to 3rd April 2016, with about the same number of listings crawled each day."
   ]
  },
  {
   "cell_type": "code",
   "execution_count": null,
   "id": "732df11b",
   "metadata": {},
   "outputs": [],
   "source": [
    "autos['ad_created'].str[:10].value_counts(normalize=True,dropna=False).sort_index(ascending=True)"
   ]
  },
  {
   "cell_type": "markdown",
   "id": "26402d33",
   "metadata": {},
   "source": [
    "There is a large range of ad created dates, ranging from June 2015 to April 2016."
   ]
  },
  {
   "cell_type": "code",
   "execution_count": null,
   "id": "9a9d0331",
   "metadata": {},
   "outputs": [],
   "source": [
    "autos['last_seen'].str[:10].value_counts(normalize=True,dropna=False).sort_index()"
   ]
  },
  {
   "cell_type": "markdown",
   "id": "16cf7e5c",
   "metadata": {},
   "source": [
    "The crawler recorded the date it last saw a listing, allowing us to determine when a listing was removed, most likely due to the car being sold.\n",
    "\n",
    "The last three days contain a disproportionate amount of last seen values. Given that these are more than 6 times the values from the previous days, it's unlikely that there was a massive spike in sales, and more likely that these values are to do with the crawling period ending."
   ]
  },
  {
   "cell_type": "markdown",
   "id": "cc60cdf8",
   "metadata": {},
   "source": [
    "Let's try to understand the distribution of `registration_year`:"
   ]
  },
  {
   "cell_type": "code",
   "execution_count": null,
   "id": "ad3d4306",
   "metadata": {},
   "outputs": [],
   "source": [
    "autos[\"registration_year\"].describe()"
   ]
  },
  {
   "cell_type": "markdown",
   "id": "1845caca",
   "metadata": {},
   "source": [
    "The minimum of `1000` and the maximum of `9999` are clear outliers."
   ]
  },
  {
   "cell_type": "markdown",
   "id": "f9c1d666",
   "metadata": {},
   "source": [
    "## Dealing with Incorrect Registration Year Data"
   ]
  },
  {
   "cell_type": "markdown",
   "id": "55a73bae",
   "metadata": {},
   "source": [
    "There were some clear outliers that we just spotted. A car can't be registered after it was listed, so a registration year above 2016 is definitely inaccurate. The earliest registration year is likely in the early 1900s."
   ]
  },
  {
   "cell_type": "code",
   "execution_count": null,
   "id": "96d71634",
   "metadata": {},
   "outputs": [],
   "source": [
    "autos[\"registration_year\"].value_counts(normalize=True,dropna=False).sort_index()"
   ]
  },
  {
   "cell_type": "code",
   "execution_count": null,
   "id": "356934c3",
   "metadata": {},
   "outputs": [],
   "source": [
    "autos[\"registration_year\"].sort_values(ascending=True).tail(50)"
   ]
  },
  {
   "cell_type": "markdown",
   "id": "531646a5",
   "metadata": {},
   "source": [
    "2016 is the highest acceptable value because cars can't have been registered after they were listed. The lowest value we accept is 1900 because cars were not mass-produced before then."
   ]
  },
  {
   "cell_type": "code",
   "execution_count": null,
   "id": "dd9311fd",
   "metadata": {},
   "outputs": [],
   "source": [
    "autos= autos[autos[\"registration_year\"].between(1900,2016)]\n",
    "autos[\"registration_year\"].value_counts(normalize=True).head(10)"
   ]
  },
  {
   "cell_type": "code",
   "execution_count": null,
   "id": "64a4cc0c",
   "metadata": {},
   "outputs": [],
   "source": [
    "autos[\"registration_year\"].describe()"
   ]
  },
  {
   "cell_type": "markdown",
   "id": "fb99ac0b",
   "metadata": {},
   "source": [
    "It seems that most cars were registered in the late 1990s / early 2000s."
   ]
  },
  {
   "cell_type": "markdown",
   "id": "5739f5ed",
   "metadata": {},
   "source": [
    "## Exploring Price by Brand"
   ]
  },
  {
   "cell_type": "code",
   "execution_count": null,
   "id": "c43f4575",
   "metadata": {},
   "outputs": [],
   "source": [
    "autos[\"brand\"].unique().shape[0]"
   ]
  },
  {
   "cell_type": "code",
   "execution_count": null,
   "id": "52820cf2",
   "metadata": {
    "scrolled": true
   },
   "outputs": [],
   "source": [
    "100*autos[\"brand\"].value_counts(normalize=True)"
   ]
  },
  {
   "cell_type": "markdown",
   "id": "ee483f24",
   "metadata": {},
   "source": [
    "Volkswagen makes up 21% of the cars listed, with exclusively German brands occupying the top 5.\n",
    "Now let's explore how prices vary according to brand, limiting our scope to the top 10 brands."
   ]
  },
  {
   "cell_type": "code",
   "execution_count": null,
   "id": "65cf2c9e",
   "metadata": {},
   "outputs": [],
   "source": [
    "brand_counts = autos[\"brand\"].value_counts(normalize=True)\n",
    "#common_brands = brand_counts[brand_counts > .05].index # if you want to choose the brands that have 5% over the total\n",
    "common_brands = brand_counts.head(10).index # the top 10 brands\n",
    "print(common_brands)\n",
    "\n",
    "brand_mean_prices = {}\n",
    "\n",
    "for brand in common_brands:\n",
    "    brand_only = autos[autos[\"brand\"] == brand]\n",
    "    mean_price = brand_only[\"price\"].mean()\n",
    "    brand_mean_prices[brand] = int(mean_price)\n",
    "\n",
    "brand_mean_prices"
   ]
  },
  {
   "cell_type": "markdown",
   "id": "2c07db83",
   "metadata": {},
   "source": [
    "Of the top 10 brands:\n",
    "\n",
    "- Mercedes-Benz, Audi and BMW are the most expensive\n",
    "- Opel is the least expensive\n",
    "- Volkswagen, the most popular brand, is somewhere in the middle in terms of price."
   ]
  },
  {
   "cell_type": "markdown",
   "id": "68e01cf5",
   "metadata": {},
   "source": [
    "## Storing Aggregate Data in a DataFrame"
   ]
  },
  {
   "cell_type": "markdown",
   "id": "9b6424a1",
   "metadata": {},
   "source": [
    "We noticed a distinct price gap between the top car brands. Let's now explore whether this is linked to mileage by using aggregation. \n",
    "\n",
    "We will make series objects from average price and mileage. We can combine the data from both series objects into a single dataframe (with a shared index) and display the dataframe directly. To do this, we'll use two pandas methods: \n",
    "\n",
    "- pandas series constructor\n",
    "- pandas dataframe constructor"
   ]
  },
  {
   "cell_type": "markdown",
   "id": "efd404a4",
   "metadata": {},
   "source": [
    "Let's first use aggregation to find the average mileage, like we did for price:"
   ]
  },
  {
   "cell_type": "code",
   "execution_count": null,
   "id": "1e662b38",
   "metadata": {},
   "outputs": [],
   "source": [
    "brand_mean_mileage = {}\n",
    "\n",
    "for brand in common_brands:\n",
    "    brand_only = autos[autos[\"brand\"] == brand]\n",
    "    mean_mileage = brand_only[\"odometer_km\"].mean()\n",
    "    brand_mean_mileage[brand] = int(mean_mileage)"
   ]
  },
  {
   "cell_type": "markdown",
   "id": "9ad1bf3b",
   "metadata": {},
   "source": [
    "Now let's use the series and dataframe constructors:"
   ]
  },
  {
   "cell_type": "code",
   "execution_count": null,
   "id": "717f49db",
   "metadata": {},
   "outputs": [],
   "source": [
    "mean_mileage = pd.Series(brand_mean_mileage).sort_values(ascending=False)\n",
    "mean_prices = pd.Series(brand_mean_prices).sort_values(ascending=False)"
   ]
  },
  {
   "cell_type": "code",
   "execution_count": null,
   "id": "82c7aff0",
   "metadata": {},
   "outputs": [],
   "source": [
    "brand_info = pd.DataFrame(mean_mileage,columns=[\"mean_mileage\"])\n",
    "brand_info"
   ]
  },
  {
   "cell_type": "markdown",
   "id": "2e9c7089",
   "metadata": {},
   "source": [
    "Let's add the price as another column:"
   ]
  },
  {
   "cell_type": "code",
   "execution_count": null,
   "id": "d48b2dca",
   "metadata": {},
   "outputs": [],
   "source": [
    "brand_info[\"mean_price\"] = mean_prices\n",
    "brand_info"
   ]
  },
  {
   "cell_type": "markdown",
   "id": "118e075c",
   "metadata": {},
   "source": [
    "The mileages do not vary as much as the prices, although there is a generally positive correlation between mileage and price."
   ]
  },
  {
   "cell_type": "markdown",
   "id": "2c440fe9",
   "metadata": {},
   "source": [
    "# Summary"
   ]
  },
  {
   "cell_type": "markdown",
   "id": "7b4def97",
   "metadata": {},
   "source": [
    "- We explored the dataset, cleaning some incorrect data, and changed our column labels from camelCase to snake_case.\n",
    "\n",
    "- We removed non-numeric characters in columns representing numerical data, editing our column label as appropriate.\n",
    "\n",
    "- We removed outliers in the `price` and `odometer` columns.\n",
    "\n",
    "- We explored the `registration_year` to remove incorrect data, such as cars registered after being listed, or before cars were even in mass production.\n",
    "\n",
    "- Finally, we used aggregation to filter the cars by mean price and mileage for the top brands and found a slight correlation between mileage and price for these brands. Prices displayed more variation than mileage."
   ]
  }
 ],
 "metadata": {
  "kernelspec": {
   "display_name": "Python 3",
   "language": "python",
   "name": "python3"
  },
  "language_info": {
   "codemirror_mode": {
    "name": "ipython",
    "version": 3
   },
   "file_extension": ".py",
   "mimetype": "text/x-python",
   "name": "python",
   "nbconvert_exporter": "python",
   "pygments_lexer": "ipython3",
   "version": "3.8.5"
  }
 },
 "nbformat": 4,
 "nbformat_minor": 5
}
