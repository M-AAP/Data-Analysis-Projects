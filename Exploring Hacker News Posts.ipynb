{
 "cells": [
  {
   "cell_type": "markdown",
   "id": "4e1f4a3d",
   "metadata": {},
   "source": [
    "# Exploring Hacker News Posts"
   ]
  },
  {
   "cell_type": "markdown",
   "id": "afbe3311",
   "metadata": {},
   "source": [
    "## Introduction"
   ]
  },
  {
   "cell_type": "markdown",
   "id": "2bbbdbda",
   "metadata": {},
   "source": [
    "In this project we will be exploring a dataset of posts to a popular technology site, [Hacker News](https://news.ycombinator.com/). Hacker News is very popular in tech and start-up circles, with the most popular posts getting hundreds and thousands of visitors. \n",
    "\n",
    "We will be working with a reduced version of the dataset, a random sample of 20,000 of the posts with at least one comment. We are specifically interested in posts with titles beginning with `Ask HN` or `Show HN`, which ask the community a question or show them something of interest. We'll compare these two types of post to ask the following:\n",
    "\n",
    "- Do `Ask HN` or `Show HN` posts received more comments on average?\n",
    "- Do posts created at a certain time receive more comments on average?\n",
    "\n",
    "Let's read in the dataset:"
   ]
  },
  {
   "cell_type": "code",
   "execution_count": 1,
   "id": "694d71c6",
   "metadata": {},
   "outputs": [
    {
     "data": {
      "text/plain": [
       "[['id', 'title', 'url', 'num_points', 'num_comments', 'author', 'created_at'],\n",
       " ['12224879',\n",
       "  'Interactive Dynamic Video',\n",
       "  'http://www.interactivedynamicvideo.com/',\n",
       "  '386',\n",
       "  '52',\n",
       "  'ne0phyte',\n",
       "  '8/4/2016 11:52'],\n",
       " ['10975351',\n",
       "  'How to Use Open Source and Shut the Fuck Up at the Same Time',\n",
       "  'http://hueniverse.com/2016/01/26/how-to-use-open-source-and-shut-the-fuck-up-at-the-same-time/',\n",
       "  '39',\n",
       "  '10',\n",
       "  'josep2',\n",
       "  '1/26/2016 19:30'],\n",
       " ['11964716',\n",
       "  \"Florida DJs May Face Felony for April Fools' Water Joke\",\n",
       "  'http://www.thewire.com/entertainment/2013/04/florida-djs-april-fools-water-joke/63798/',\n",
       "  '2',\n",
       "  '1',\n",
       "  'vezycash',\n",
       "  '6/23/2016 22:20'],\n",
       " ['11919867',\n",
       "  'Technology ventures: From Idea to Enterprise',\n",
       "  'https://www.amazon.com/Technology-Ventures-Enterprise-Thomas-Byers/dp/0073523429',\n",
       "  '3',\n",
       "  '1',\n",
       "  'hswarna',\n",
       "  '6/17/2016 0:01']]"
      ]
     },
     "execution_count": 1,
     "metadata": {},
     "output_type": "execute_result"
    }
   ],
   "source": [
    "opened_file = open('hacker_news.csv')\n",
    "\n",
    "from csv import reader\n",
    "\n",
    "read_file = reader(opened_file)\n",
    "\n",
    "hn = list(read_file)\n",
    "\n",
    "hn[:5]"
   ]
  },
  {
   "cell_type": "markdown",
   "id": "8d5aebda",
   "metadata": {},
   "source": [
    "## Removing Headers"
   ]
  },
  {
   "cell_type": "markdown",
   "id": "bcdeb841",
   "metadata": {},
   "source": [
    "Let's remove the header row:"
   ]
  },
  {
   "cell_type": "code",
   "execution_count": 2,
   "id": "67f0d6cb",
   "metadata": {},
   "outputs": [
    {
     "name": "stdout",
     "output_type": "stream",
     "text": [
      "['id', 'title', 'url', 'num_points', 'num_comments', 'author', 'created_at']\n"
     ]
    }
   ],
   "source": [
    "headers = hn[0]\n",
    "print(headers)"
   ]
  },
  {
   "cell_type": "code",
   "execution_count": 3,
   "id": "7abef97a",
   "metadata": {},
   "outputs": [
    {
     "data": {
      "text/plain": [
       "[['12224879',\n",
       "  'Interactive Dynamic Video',\n",
       "  'http://www.interactivedynamicvideo.com/',\n",
       "  '386',\n",
       "  '52',\n",
       "  'ne0phyte',\n",
       "  '8/4/2016 11:52'],\n",
       " ['10975351',\n",
       "  'How to Use Open Source and Shut the Fuck Up at the Same Time',\n",
       "  'http://hueniverse.com/2016/01/26/how-to-use-open-source-and-shut-the-fuck-up-at-the-same-time/',\n",
       "  '39',\n",
       "  '10',\n",
       "  'josep2',\n",
       "  '1/26/2016 19:30'],\n",
       " ['11964716',\n",
       "  \"Florida DJs May Face Felony for April Fools' Water Joke\",\n",
       "  'http://www.thewire.com/entertainment/2013/04/florida-djs-april-fools-water-joke/63798/',\n",
       "  '2',\n",
       "  '1',\n",
       "  'vezycash',\n",
       "  '6/23/2016 22:20'],\n",
       " ['11919867',\n",
       "  'Technology ventures: From Idea to Enterprise',\n",
       "  'https://www.amazon.com/Technology-Ventures-Enterprise-Thomas-Byers/dp/0073523429',\n",
       "  '3',\n",
       "  '1',\n",
       "  'hswarna',\n",
       "  '6/17/2016 0:01'],\n",
       " ['10301696',\n",
       "  'Note by Note: The Making of Steinway L1037 (2007)',\n",
       "  'http://www.nytimes.com/2007/11/07/movies/07stein.html?_r=0',\n",
       "  '8',\n",
       "  '2',\n",
       "  'walterbell',\n",
       "  '9/30/2015 4:12']]"
      ]
     },
     "execution_count": 3,
     "metadata": {},
     "output_type": "execute_result"
    }
   ],
   "source": [
    "hn = hn[1:]\n",
    "hn[:5]"
   ]
  },
  {
   "cell_type": "markdown",
   "id": "db952105",
   "metadata": {},
   "source": [
    "## Extracting Ask HN and Show HN Posts"
   ]
  },
  {
   "cell_type": "markdown",
   "id": "b41a2b39",
   "metadata": {},
   "source": [
    "We're only concerned with `Ask HN` and `Show HN` posts, so we'll create a new list of lists with only these posts. To check if a title contains `Ask HN` or `Show HN`, we'll use the string method `string.startswith(\"substring\")` which returns `True` if the string starts with `\"substring\"` and `False` otherwise:"
   ]
  },
  {
   "cell_type": "code",
   "execution_count": 4,
   "id": "21bff64a",
   "metadata": {},
   "outputs": [
    {
     "data": {
      "text/plain": [
       "True"
      ]
     },
     "execution_count": 4,
     "metadata": {},
     "output_type": "execute_result"
    }
   ],
   "source": [
    "string1 = \"DataQuest is the best!\"\n",
    "string1.startswith(\"DataQuest\")"
   ]
  },
  {
   "cell_type": "markdown",
   "id": "fbaee985",
   "metadata": {},
   "source": [
    "We will analyse `Ask HN` and `Show HN` posts separately, so we'll create separate lists for each. To control for case, we'll use the `string.lower()` method:"
   ]
  },
  {
   "cell_type": "code",
   "execution_count": 5,
   "id": "a6cb09b0",
   "metadata": {},
   "outputs": [
    {
     "data": {
      "text/plain": [
       "(1744, 1162, 17194)"
      ]
     },
     "execution_count": 5,
     "metadata": {},
     "output_type": "execute_result"
    }
   ],
   "source": [
    "ask_posts = []\n",
    "show_posts = []\n",
    "other_posts = []\n",
    "for row in hn:\n",
    "    title = row[1].lower()\n",
    "    if title.startswith(\"ask hn\"):\n",
    "        ask_posts.append(row)\n",
    "    elif title.startswith(\"show hn\"):\n",
    "        show_posts.append(row)\n",
    "    else:\n",
    "        other_posts.append(row)\n",
    "        \n",
    "len(ask_posts), len(show_posts), len(other_posts)"
   ]
  },
  {
   "cell_type": "markdown",
   "id": "12c5dc69",
   "metadata": {},
   "source": [
    "## Calculating the Average Number of Comments for Ask HN and Show HN Posts"
   ]
  },
  {
   "cell_type": "markdown",
   "id": "1a60c3be",
   "metadata": {},
   "source": [
    "Let's now calculate the average number of comments in each type of post. The number of comments is stored as a string so we'll need to convert it. Instead of repeating the same code 3 times, we'll write a function which calculates the average number of comments:"
   ]
  },
  {
   "cell_type": "code",
   "execution_count": 6,
   "id": "01efb507",
   "metadata": {},
   "outputs": [],
   "source": [
    "def avg_comments(type_of_post):\n",
    "    total_comments = 0\n",
    "    for post in type_of_post:\n",
    "        comments = int(post[4])\n",
    "        total_comments += comments\n",
    "    avg_comments = total_comments / len(type_of_post)\n",
    "    return avg_comments"
   ]
  },
  {
   "cell_type": "code",
   "execution_count": 7,
   "id": "05ddd151",
   "metadata": {},
   "outputs": [
    {
     "name": "stdout",
     "output_type": "stream",
     "text": [
      "Average number of comments:\n",
      "-----------------------------\n",
      "Ask Posts: 14.038417431192661\n",
      "Show Posts: 10.31669535283993\n",
      "Other Posts: 26.8730371059672\n"
     ]
    }
   ],
   "source": [
    "print(\"Average number of comments:\\n-----------------------------\")\n",
    "print(\"Ask Posts:\",avg_comments(ask_posts))\n",
    "print(\"Show Posts:\",avg_comments(show_posts))\n",
    "print(\"Other Posts:\",avg_comments(other_posts))"
   ]
  },
  {
   "cell_type": "markdown",
   "id": "3fcc858d",
   "metadata": {},
   "source": [
    "Ask posts receive about 14 comments on average, whereas show posts receive around 10 comments on average."
   ]
  },
  {
   "cell_type": "markdown",
   "id": "783f6751",
   "metadata": {},
   "source": [
    "## Finding the Number of Ask Posts and Comments by Hour Created"
   ]
  },
  {
   "cell_type": "markdown",
   "id": "47390871",
   "metadata": {},
   "source": [
    "Since ask posts receive more comments, we'll focus the rest of our analysis on these posts. We now want to find out if posts created at a specific time of day receive more posts, so we'll calculate the number of ask posts created in each hour of the day, along with the number of comments received and the average number of comments ask posts received by hour."
   ]
  },
  {
   "cell_type": "code",
   "execution_count": 8,
   "id": "0c26593c",
   "metadata": {},
   "outputs": [
    {
     "name": "stdout",
     "output_type": "stream",
     "text": [
      "['id', 'title', 'url', 'num_points', 'num_comments', 'author', 'created_at']\n"
     ]
    },
    {
     "data": {
      "text/plain": [
       "[['12296411',\n",
       "  'Ask HN: How to improve my personal website?',\n",
       "  '',\n",
       "  '2',\n",
       "  '6',\n",
       "  'ahmedbaracat',\n",
       "  '8/16/2016 9:55'],\n",
       " ['10610020',\n",
       "  'Ask HN: Am I the only one outraged by Twitter shutting down share counts?',\n",
       "  '',\n",
       "  '28',\n",
       "  '29',\n",
       "  'tkfx',\n",
       "  '11/22/2015 13:43'],\n",
       " ['11610310',\n",
       "  'Ask HN: Aby recent changes to CSS that broke mobile?',\n",
       "  '',\n",
       "  '1',\n",
       "  '1',\n",
       "  'polskibus',\n",
       "  '5/2/2016 10:14'],\n",
       " ['12210105',\n",
       "  'Ask HN: Looking for Employee #3 How do I do it?',\n",
       "  '',\n",
       "  '1',\n",
       "  '3',\n",
       "  'sph130',\n",
       "  '8/2/2016 14:20'],\n",
       " ['10394168',\n",
       "  'Ask HN: Someone offered to buy my browser extension from me. What now?',\n",
       "  '',\n",
       "  '28',\n",
       "  '17',\n",
       "  'roykolak',\n",
       "  '10/15/2015 16:38']]"
      ]
     },
     "execution_count": 8,
     "metadata": {},
     "output_type": "execute_result"
    }
   ],
   "source": [
    "print(headers)\n",
    "ask_posts[:5]"
   ]
  },
  {
   "cell_type": "markdown",
   "id": "b8fab535",
   "metadata": {},
   "source": [
    "Let's first create a list of lists `result_list` which contains pairs, the date/time a post was created, and the number of comments:"
   ]
  },
  {
   "cell_type": "code",
   "execution_count": 9,
   "id": "24fa966a",
   "metadata": {},
   "outputs": [
    {
     "data": {
      "text/plain": [
       "[['8/16/2016 9:55', 6],\n",
       " ['11/22/2015 13:43', 29],\n",
       " ['5/2/2016 10:14', 1],\n",
       " ['8/2/2016 14:20', 3],\n",
       " ['10/15/2015 16:38', 17],\n",
       " ['9/26/2015 23:23', 1]]"
      ]
     },
     "execution_count": 9,
     "metadata": {},
     "output_type": "execute_result"
    }
   ],
   "source": [
    "import datetime as dt\n",
    "\n",
    "result_list = []\n",
    "\n",
    "for post in ask_posts:\n",
    "    created_at = post[-1]\n",
    "    num_comments = int(post[-3])\n",
    "    result_list.append([created_at,num_comments])\n",
    "    \n",
    "result_list[:6]"
   ]
  },
  {
   "cell_type": "markdown",
   "id": "ed9caad6",
   "metadata": {},
   "source": [
    "Now let's create frequency tables of the number of posts by hour and the number of comments by hour. We'll need to parse the `created_at` strings:"
   ]
  },
  {
   "cell_type": "code",
   "execution_count": 10,
   "id": "480d1508",
   "metadata": {},
   "outputs": [
    {
     "data": {
      "text/plain": [
       "('Number of posts by hour:',\n",
       " {'09': 45,\n",
       "  '13': 85,\n",
       "  '10': 59,\n",
       "  '14': 107,\n",
       "  '16': 108,\n",
       "  '23': 68,\n",
       "  '12': 73,\n",
       "  '17': 100,\n",
       "  '15': 116,\n",
       "  '21': 109,\n",
       "  '20': 80,\n",
       "  '02': 58,\n",
       "  '18': 109,\n",
       "  '03': 54,\n",
       "  '05': 46,\n",
       "  '19': 110,\n",
       "  '01': 60,\n",
       "  '22': 71,\n",
       "  '08': 48,\n",
       "  '04': 47,\n",
       "  '00': 55,\n",
       "  '06': 44,\n",
       "  '07': 34,\n",
       "  '11': 58},\n",
       " 'Number of comments by hour:',\n",
       " {'09': 251,\n",
       "  '13': 1253,\n",
       "  '10': 793,\n",
       "  '14': 1416,\n",
       "  '16': 1814,\n",
       "  '23': 543,\n",
       "  '12': 687,\n",
       "  '17': 1146,\n",
       "  '15': 4477,\n",
       "  '21': 1745,\n",
       "  '20': 1722,\n",
       "  '02': 1381,\n",
       "  '18': 1439,\n",
       "  '03': 421,\n",
       "  '05': 464,\n",
       "  '19': 1188,\n",
       "  '01': 683,\n",
       "  '22': 479,\n",
       "  '08': 492,\n",
       "  '04': 337,\n",
       "  '00': 447,\n",
       "  '06': 397,\n",
       "  '07': 267,\n",
       "  '11': 641})"
      ]
     },
     "execution_count": 10,
     "metadata": {},
     "output_type": "execute_result"
    }
   ],
   "source": [
    "counts_by_hour = {}\n",
    "comments_by_hour = {}\n",
    "\n",
    "for item in result_list:\n",
    "    created_at = item[0]\n",
    "    created_dt_object = dt.datetime.strptime(created_at,\"%m/%d/%Y %H:%M\")\n",
    "    hour = created_dt_object.strftime(\"%H\")\n",
    "    comments = item[1]\n",
    "    if hour in counts_by_hour:\n",
    "        counts_by_hour[hour] += 1\n",
    "        comments_by_hour[hour] += comments\n",
    "    else:\n",
    "        counts_by_hour[hour] = 1\n",
    "        comments_by_hour[hour] = comments\n",
    "    \n",
    "\n",
    "\"Number of posts by hour:\",counts_by_hour, \"Number of comments by hour:\",comments_by_hour"
   ]
  },
  {
   "cell_type": "markdown",
   "id": "8708c106",
   "metadata": {},
   "source": [
    "## Calculating the Average Number of Comments for Ask HN Posts by Hour"
   ]
  },
  {
   "cell_type": "markdown",
   "id": "e146acec",
   "metadata": {},
   "source": [
    "We'll use the dictionaries we just created to calculate the average number of comments for posts created during each hour of the day. There are two ways we can do this:"
   ]
  },
  {
   "cell_type": "code",
   "execution_count": 11,
   "id": "968a2581",
   "metadata": {},
   "outputs": [
    {
     "name": "stdout",
     "output_type": "stream",
     "text": [
      "Average number of comments per hour:\n",
      "{'09': 5.5777777777777775, '13': 14.741176470588234, '10': 13.440677966101696, '14': 13.233644859813085, '16': 16.796296296296298, '23': 7.985294117647059, '12': 9.41095890410959, '17': 11.46, '15': 38.5948275862069, '21': 16.009174311926607, '20': 21.525, '02': 23.810344827586206, '18': 13.20183486238532, '03': 7.796296296296297, '05': 10.08695652173913, '19': 10.8, '01': 11.383333333333333, '22': 6.746478873239437, '08': 10.25, '04': 7.170212765957447, '00': 8.127272727272727, '06': 9.022727272727273, '07': 7.852941176470588, '11': 11.051724137931034}\n"
     ]
    },
    {
     "data": {
      "text/plain": [
       "[['09', 5.5777777777777775],\n",
       " ['13', 14.741176470588234],\n",
       " ['10', 13.440677966101696],\n",
       " ['14', 13.233644859813085],\n",
       " ['16', 16.796296296296298],\n",
       " ['23', 7.985294117647059],\n",
       " ['12', 9.41095890410959],\n",
       " ['17', 11.46],\n",
       " ['15', 38.5948275862069],\n",
       " ['21', 16.009174311926607],\n",
       " ['20', 21.525],\n",
       " ['02', 23.810344827586206],\n",
       " ['18', 13.20183486238532],\n",
       " ['03', 7.796296296296297],\n",
       " ['05', 10.08695652173913],\n",
       " ['19', 10.8],\n",
       " ['01', 11.383333333333333],\n",
       " ['22', 6.746478873239437],\n",
       " ['08', 10.25],\n",
       " ['04', 7.170212765957447],\n",
       " ['00', 8.127272727272727],\n",
       " ['06', 9.022727272727273],\n",
       " ['07', 7.852941176470588],\n",
       " ['11', 11.051724137931034]]"
      ]
     },
     "execution_count": 11,
     "metadata": {},
     "output_type": "execute_result"
    }
   ],
   "source": [
    "# dictionary\n",
    "avg_dict = {}\n",
    "\n",
    "for hour in counts_by_hour:\n",
    "    avg_dict[hour] = comments_by_hour[hour] / counts_by_hour[hour]\n",
    "    \n",
    "print(\"Average number of comments per hour:\")\n",
    "print(avg_dict)\n",
    "\n",
    "# list\n",
    "avg_by_hour = []\n",
    "\n",
    "for hr in comments_by_hour:\n",
    "    avg_by_hour.append([hr, comments_by_hour[hr] / counts_by_hour[hr]])\n",
    "\n",
    "avg_by_hour"
   ]
  },
  {
   "cell_type": "markdown",
   "id": "33d576d6",
   "metadata": {},
   "source": [
    "This format makes it difficult to see which hours have the most comments. We'll use the built-in `sorted()` function which works on any iterable object, including lists and dictionaries. We'll use the list of lists, although an analogous method would work for the dictionary.\n",
    "\n",
    "First we make a list with the values swapped:"
   ]
  },
  {
   "cell_type": "code",
   "execution_count": 12,
   "id": "da5e82f5",
   "metadata": {},
   "outputs": [
    {
     "data": {
      "text/plain": [
       "[[5.5777777777777775, '09'],\n",
       " [14.741176470588234, '13'],\n",
       " [13.440677966101696, '10'],\n",
       " [13.233644859813085, '14'],\n",
       " [16.796296296296298, '16'],\n",
       " [7.985294117647059, '23'],\n",
       " [9.41095890410959, '12'],\n",
       " [11.46, '17'],\n",
       " [38.5948275862069, '15'],\n",
       " [16.009174311926607, '21'],\n",
       " [21.525, '20'],\n",
       " [23.810344827586206, '02'],\n",
       " [13.20183486238532, '18'],\n",
       " [7.796296296296297, '03'],\n",
       " [10.08695652173913, '05'],\n",
       " [10.8, '19'],\n",
       " [11.383333333333333, '01'],\n",
       " [6.746478873239437, '22'],\n",
       " [10.25, '08'],\n",
       " [7.170212765957447, '04'],\n",
       " [8.127272727272727, '00'],\n",
       " [9.022727272727273, '06'],\n",
       " [7.852941176470588, '07'],\n",
       " [11.051724137931034, '11']]"
      ]
     },
     "execution_count": 12,
     "metadata": {},
     "output_type": "execute_result"
    }
   ],
   "source": [
    "swap_avg_by_hour = []\n",
    "\n",
    "for element in avg_by_hour:\n",
    "    first = element[1]\n",
    "    second = element[0]\n",
    "    swap_avg_by_hour.append([first,second])\n",
    "\n",
    "swap_avg_by_hour"
   ]
  },
  {
   "cell_type": "markdown",
   "id": "d4f170d7",
   "metadata": {},
   "source": [
    "Now we sort this list by average number of comments using `sorted()`. Setting `reverse = True` ensures the list is in descending order:"
   ]
  },
  {
   "cell_type": "code",
   "execution_count": 13,
   "id": "7ef512cd",
   "metadata": {},
   "outputs": [
    {
     "data": {
      "text/plain": [
       "[[38.5948275862069, '15'],\n",
       " [23.810344827586206, '02'],\n",
       " [21.525, '20'],\n",
       " [16.796296296296298, '16'],\n",
       " [16.009174311926607, '21'],\n",
       " [14.741176470588234, '13'],\n",
       " [13.440677966101696, '10'],\n",
       " [13.233644859813085, '14'],\n",
       " [13.20183486238532, '18'],\n",
       " [11.46, '17'],\n",
       " [11.383333333333333, '01'],\n",
       " [11.051724137931034, '11'],\n",
       " [10.8, '19'],\n",
       " [10.25, '08'],\n",
       " [10.08695652173913, '05'],\n",
       " [9.41095890410959, '12'],\n",
       " [9.022727272727273, '06'],\n",
       " [8.127272727272727, '00'],\n",
       " [7.985294117647059, '23'],\n",
       " [7.852941176470588, '07'],\n",
       " [7.796296296296297, '03'],\n",
       " [7.170212765957447, '04'],\n",
       " [6.746478873239437, '22'],\n",
       " [5.5777777777777775, '09']]"
      ]
     },
     "execution_count": 13,
     "metadata": {},
     "output_type": "execute_result"
    }
   ],
   "source": [
    "sorted_avg = sorted(swap_avg_by_hour, reverse = True)\n",
    "sorted_avg"
   ]
  },
  {
   "cell_type": "markdown",
   "id": "b5170163",
   "metadata": {},
   "source": [
    "Let's now display the top 5 hours in an easy to read format:"
   ]
  },
  {
   "cell_type": "code",
   "execution_count": 14,
   "id": "1bb41d25",
   "metadata": {},
   "outputs": [
    {
     "name": "stdout",
     "output_type": "stream",
     "text": [
      "Top 5 Hours for Asks Posts Comments\n",
      "----------------------------------------------------\n",
      "15:00: 38.59 average comments per post\n",
      "02:00: 23.81 average comments per post\n",
      "20:00: 21.52 average comments per post\n",
      "16:00: 16.80 average comments per post\n",
      "21:00: 16.01 average comments per post\n"
     ]
    }
   ],
   "source": [
    "print(\"Top 5 Hours for Asks Posts Comments\\n----------------------------------------------------\")\n",
    "for item in sorted_avg[:5]:\n",
    "    comments = item[0]\n",
    "    hour = item[1]\n",
    "    dt_hour = dt.datetime.strptime(hour,\"%H\")\n",
    "    format_hour = dt_hour.strftime(\"%H:00\")\n",
    "    print(\"{}: {:.2f} average comments per post\".format(format_hour, comments))"
   ]
  },
  {
   "cell_type": "markdown",
   "id": "66f2954d",
   "metadata": {},
   "source": [
    "Based on this, to have a higher chance of receiving comments an `Ask HN` post, you should post between 3pm and 4pm Eastern Time, between 2am and 3am ET, or between 8pm and 9pm ET. The timezone can be found in the [documentation](https://www.kaggle.com/datasets/hacker-news/hacker-news-posts) for the dataset."
   ]
  },
  {
   "cell_type": "markdown",
   "id": "e124ab0d",
   "metadata": {},
   "source": [
    "## Summary"
   ]
  },
  {
   "cell_type": "markdown",
   "id": "7461a0ed",
   "metadata": {},
   "source": [
    "In this project, we analysed a dataset with data about posts created on [Hacker News](https://news.ycombinator.com/). We narrowed down our scope to `Ask HN` and `Show HN` posts and saw that `Ask HN` posts received more comments on average. We then created frequency tables to break down the `Ask HN` posts by the hour they were created. In conclusion, we found that to have a higher chance of receiving more comments, you should make an `Ask HN` post between 3pm and 4pm ET (Eastern Time), between 2am and 3am ET, or between 8pm and 9pm ET."
   ]
  },
  {
   "cell_type": "markdown",
   "id": "3a701b98",
   "metadata": {},
   "source": [
    "## Next Steps"
   ]
  },
  {
   "cell_type": "markdown",
   "id": "3195611c",
   "metadata": {},
   "source": [
    "For a more in-depth analysis, we could explore the following points:\n",
    "\n",
    "- Determine if `show` or `ask` posts receive more points on average.\n",
    "- Determine if posts created at a certain time are more likely to receive more points.\n",
    "- Compare these results to the average number of comments and points other posts receive."
   ]
  }
 ],
 "metadata": {
  "kernelspec": {
   "display_name": "Python 3",
   "language": "python",
   "name": "python3"
  },
  "language_info": {
   "codemirror_mode": {
    "name": "ipython",
    "version": 3
   },
   "file_extension": ".py",
   "mimetype": "text/x-python",
   "name": "python",
   "nbconvert_exporter": "python",
   "pygments_lexer": "ipython3",
   "version": "3.8.5"
  }
 },
 "nbformat": 4,
 "nbformat_minor": 5
}
